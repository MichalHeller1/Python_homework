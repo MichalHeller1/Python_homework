{
 "cells": [
  {
   "cell_type": "markdown",
   "id": "0275b3e2",
   "metadata": {},
   "source": [
    "### Accepting a function in a parameter"
   ]
  },
  {
   "cell_type": "code",
   "execution_count": 1,
   "id": "6425296c",
   "metadata": {},
   "outputs": [],
   "source": [
    "def gf(pr):\n",
    "    pr()\n"
   ]
  },
  {
   "cell_type": "code",
   "execution_count": 2,
   "id": "ff327a5a",
   "metadata": {},
   "outputs": [],
   "source": [
    "def fn1():\n",
    "    print(\"opt 1\")\n"
   ]
  },
  {
   "cell_type": "code",
   "execution_count": 3,
   "id": "3cdfa9ad",
   "metadata": {},
   "outputs": [
    {
     "name": "stdout",
     "output_type": "stream",
     "text": [
      "opt 1\n"
     ]
    }
   ],
   "source": [
    "gf(fn1)"
   ]
  },
  {
   "cell_type": "code",
   "execution_count": null,
   "id": "9481a75c",
   "metadata": {},
   "outputs": [],
   "source": []
  },
  {
   "cell_type": "code",
   "execution_count": null,
   "id": "48350492",
   "metadata": {},
   "outputs": [],
   "source": []
  },
  {
   "cell_type": "markdown",
   "id": "b5324ae9",
   "metadata": {},
   "source": [
    "### sort() & sorted()"
   ]
  },
  {
   "cell_type": "code",
   "execution_count": 4,
   "id": "7daa0a03",
   "metadata": {},
   "outputs": [
    {
     "name": "stdout",
     "output_type": "stream",
     "text": [
      "[2, 3, 5, 7, 11]\n"
     ]
    }
   ],
   "source": [
    "prime_numbers = [11, 3, 7, 5, 2]\n",
    "prime_numbers.sort()\n",
    "print(prime_numbers)\n"
   ]
  },
  {
   "cell_type": "code",
   "execution_count": 5,
   "id": "89d7196f",
   "metadata": {},
   "outputs": [
    {
     "name": "stdout",
     "output_type": "stream",
     "text": [
      "Help on method_descriptor:\n",
      "\n",
      "sort(self, /, *, key=None, reverse=False)\n",
      "    Sort the list in ascending order and return None.\n",
      "    \n",
      "    The sort is in-place (i.e. the list itself is modified) and stable (i.e. the\n",
      "    order of two equal elements is maintained).\n",
      "    \n",
      "    If a key function is given, apply it once to each list item and sort them,\n",
      "    ascending or descending, according to their function values.\n",
      "    \n",
      "    The reverse flag can be set to sort in descending order.\n",
      "\n"
     ]
    }
   ],
   "source": [
    "help(list.sort)"
   ]
  },
  {
   "cell_type": "markdown",
   "id": "ebc12536",
   "metadata": {},
   "source": [
    "#### sort by key"
   ]
  },
  {
   "cell_type": "code",
   "execution_count": 6,
   "id": "f7226957",
   "metadata": {},
   "outputs": [
    {
     "name": "stdout",
     "output_type": "stream",
     "text": [
      "['d', 'bb', 'ccc', 'aaaa']\n"
     ]
    }
   ],
   "source": [
    "strs = ['ccc', 'aaaa', 'd', 'bb']\n",
    "strs.sort(key=len)\n",
    "print(strs)"
   ]
  },
  {
   "cell_type": "markdown",
   "id": "4bd74c1a",
   "metadata": {},
   "source": [
    "#### Sort by custom key function"
   ]
  },
  {
   "cell_type": "code",
   "execution_count": 7,
   "id": "130a595a",
   "metadata": {},
   "outputs": [],
   "source": [
    "programming_languages = [{'language':'Python','year':1991},\n",
    "{'language':'Swift','year':2014},\n",
    "{'language':'Java', 'year':1995},\n",
    "{'language':'C++','year':1985},\n",
    "{'language':'Go','year':2007},\n",
    "{'language':'Rust','year':2010},\n",
    "]"
   ]
  },
  {
   "cell_type": "code",
   "execution_count": 8,
   "id": "6b5cafee",
   "metadata": {},
   "outputs": [],
   "source": [
    "def get_year(element):\n",
    "    return element['year']"
   ]
  },
  {
   "cell_type": "code",
   "execution_count": 9,
   "id": "8786e123",
   "metadata": {},
   "outputs": [
    {
     "name": "stdout",
     "output_type": "stream",
     "text": [
      "[{'language': 'C++', 'year': 1985}, {'language': 'Python', 'year': 1991}, {'language': 'Java', 'year': 1995}, {'language': 'Go', 'year': 2007}, {'language': 'Rust', 'year': 2010}, {'language': 'Swift', 'year': 2014}]\n"
     ]
    }
   ],
   "source": [
    "programming_languages.sort(key=get_year)\n",
    "print(programming_languages)\n"
   ]
  },
  {
   "cell_type": "markdown",
   "id": "4c902b4e",
   "metadata": {},
   "source": [
    "#### resverse"
   ]
  },
  {
   "cell_type": "code",
   "execution_count": 10,
   "id": "66d0ff3c",
   "metadata": {},
   "outputs": [
    {
     "name": "stdout",
     "output_type": "stream",
     "text": [
      "[{'language': 'Swift', 'year': 2014}, {'language': 'Rust', 'year': 2010}, {'language': 'Go', 'year': 2007}, {'language': 'Java', 'year': 1995}, {'language': 'Python', 'year': 1991}, {'language': 'C++', 'year': 1985}]\n"
     ]
    }
   ],
   "source": [
    "programming_languages.sort(key=get_year, reverse=True)\n",
    "print(programming_languages)\n"
   ]
  },
  {
   "cell_type": "markdown",
   "id": "92f8020f",
   "metadata": {},
   "source": [
    "#### Using lambda"
   ]
  },
  {
   "cell_type": "code",
   "execution_count": 11,
   "id": "bf990e7e",
   "metadata": {
    "scrolled": true
   },
   "outputs": [
    {
     "name": "stdout",
     "output_type": "stream",
     "text": [
      "[{'language': 'C++', 'year': 1985}, {'language': 'Python', 'year': 1991}, {'language': 'Java', 'year': 1995}, {'language': 'Go', 'year': 2007}, {'language': 'Rust', 'year': 2010}, {'language': 'Swift', 'year': 2014}]\n"
     ]
    }
   ],
   "source": [
    "programming_languages.sort(key=lambda element: element['year'])\n",
    "print(programming_languages)\n"
   ]
  },
  {
   "cell_type": "markdown",
   "id": "5f6f5732",
   "metadata": {},
   "source": [
    "#### What will return? Sort by what?"
   ]
  },
  {
   "cell_type": "code",
   "execution_count": 12,
   "id": "a21f2be2",
   "metadata": {},
   "outputs": [
    {
     "name": "stdout",
     "output_type": "stream",
     "text": [
      "Sorted list: [(4, 1), (2, 2), (1, 3), (3, 4)]\n"
     ]
    }
   ],
   "source": [
    "def takeX(elem):\n",
    "    return elem[1]\n",
    "random = [(2, 2), (3, 4), (4, 1), (1, 3)]\n",
    "random.sort(key=takeX)\n",
    "print('Sorted list:', random)\n"
   ]
  },
  {
   "cell_type": "code",
   "execution_count": null,
   "id": "bb4a7907",
   "metadata": {},
   "outputs": [],
   "source": []
  },
  {
   "cell_type": "code",
   "execution_count": null,
   "id": "b5ce3ce0",
   "metadata": {},
   "outputs": [],
   "source": []
  },
  {
   "cell_type": "markdown",
   "id": "2c635518",
   "metadata": {},
   "source": [
    "### Sort function"
   ]
  },
  {
   "cell_type": "markdown",
   "id": "62c48ac0",
   "metadata": {},
   "source": [
    "list.sort(key=..., reverse=True/False)"
   ]
  },
  {
   "cell_type": "code",
   "execution_count": 15,
   "id": "66eaeee6",
   "metadata": {
    "scrolled": true
   },
   "outputs": [
    {
     "name": "stdout",
     "output_type": "stream",
     "text": [
      "[{'language': 'C++', 'year': 1985}, {'language': 'Python', 'year': 1991}, {'language': 'Java', 'year': 1995}, {'language': 'Go', 'year': 2007}, {'language': 'Rust', 'year': 2010}, {'language': 'Swift', 'year': 2014}]\n"
     ]
    }
   ],
   "source": [
    "programming_languages.sort(key=get_year)\n",
    "print(programming_languages)"
   ]
  },
  {
   "cell_type": "markdown",
   "id": "42ae72d8",
   "metadata": {},
   "source": [
    "### Sorted function"
   ]
  },
  {
   "cell_type": "markdown",
   "id": "027f4a02",
   "metadata": {},
   "source": [
    "sorted(list, key=..., reverse=...)"
   ]
  },
  {
   "cell_type": "code",
   "execution_count": 16,
   "id": "91c22652",
   "metadata": {},
   "outputs": [
    {
     "data": {
      "text/plain": [
       "[{'language': 'C++', 'year': 1985},\n",
       " {'language': 'Python', 'year': 1991},\n",
       " {'language': 'Java', 'year': 1995},\n",
       " {'language': 'Go', 'year': 2007},\n",
       " {'language': 'Rust', 'year': 2010},\n",
       " {'language': 'Swift', 'year': 2014}]"
      ]
     },
     "execution_count": 16,
     "metadata": {},
     "output_type": "execute_result"
    }
   ],
   "source": [
    "sorted(programming_languages,key=get_year)"
   ]
  },
  {
   "cell_type": "code",
   "execution_count": null,
   "id": "8955d463",
   "metadata": {},
   "outputs": [],
   "source": []
  }
 ],
 "metadata": {
  "kernelspec": {
   "display_name": "Python 3 (ipykernel)",
   "language": "python",
   "name": "python3"
  },
  "language_info": {
   "codemirror_mode": {
    "name": "ipython",
    "version": 3
   },
   "file_extension": ".py",
   "mimetype": "text/x-python",
   "name": "python",
   "nbconvert_exporter": "python",
   "pygments_lexer": "ipython3",
   "version": "3.9.7"
  }
 },
 "nbformat": 4,
 "nbformat_minor": 5
}
