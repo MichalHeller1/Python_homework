{
 "cells": [
  {
   "cell_type": "markdown",
   "id": "1a7e750d",
   "metadata": {},
   "source": [
    "## OOP in Python\n",
    "#### class className:"
   ]
  },
  {
   "cell_type": "code",
   "execution_count": 1,
   "id": "4d101f4a",
   "metadata": {},
   "outputs": [],
   "source": [
    "class Bike:\n",
    "    name = \"\"\n",
    "    gear = 0\n"
   ]
  },
  {
   "cell_type": "code",
   "execution_count": 2,
   "id": "a28de0a6",
   "metadata": {},
   "outputs": [],
   "source": [
    "bike1 = Bike()"
   ]
  },
  {
   "cell_type": "code",
   "execution_count": 3,
   "id": "76a74029",
   "metadata": {},
   "outputs": [
    {
     "name": "stdout",
     "output_type": "stream",
     "text": [
      "Name: Mountain Bike, Gears: 11 \n"
     ]
    }
   ],
   "source": [
    "bike1.gear = 11\n",
    "bike1.name = \"Mountain Bike\"\n",
    "print(f\"Name: {bike1.name}, Gears: {bike1.gear} \")\n"
   ]
  },
  {
   "cell_type": "code",
   "execution_count": null,
   "id": "d2370d49",
   "metadata": {},
   "outputs": [],
   "source": []
  },
  {
   "cell_type": "code",
   "execution_count": 4,
   "id": "08c0e798",
   "metadata": {},
   "outputs": [],
   "source": [
    "class Room:\n",
    "    length = 0.0\n",
    "    breadth = 0.0\n",
    "  \n",
    "    def calculate_area(self):\n",
    "        print(\"Area of Room =\", self.length * self.breadth)\n"
   ]
  },
  {
   "cell_type": "code",
   "execution_count": 5,
   "id": "8d0bcb52",
   "metadata": {},
   "outputs": [
    {
     "name": "stdout",
     "output_type": "stream",
     "text": [
      "Area of Room = 1309.0\n"
     ]
    }
   ],
   "source": [
    "study_room = Room()\n",
    "study_room.length = 42.5\n",
    "study_room.breadth = 30.8\n",
    "study_room.calculate_area()\n"
   ]
  },
  {
   "cell_type": "code",
   "execution_count": null,
   "id": "d5adbdd0",
   "metadata": {},
   "outputs": [],
   "source": []
  },
  {
   "cell_type": "code",
   "execution_count": null,
   "id": "3e2ed5e7",
   "metadata": {},
   "outputs": [],
   "source": [
    "# __init__()"
   ]
  },
  {
   "cell_type": "code",
   "execution_count": 6,
   "id": "ae290e24",
   "metadata": {},
   "outputs": [],
   "source": [
    "class Bike:\n",
    "    def __init__(self, name = \"\"):\n",
    "        self.name = name\n"
   ]
  },
  {
   "cell_type": "code",
   "execution_count": 7,
   "id": "a36cf70a",
   "metadata": {},
   "outputs": [],
   "source": [
    "bike1 = Bike()"
   ]
  },
  {
   "cell_type": "code",
   "execution_count": 8,
   "id": "b52e2d2b",
   "metadata": {},
   "outputs": [],
   "source": [
    "bike1 = Bike(\"Mountain Bike\")"
   ]
  },
  {
   "cell_type": "code",
   "execution_count": 9,
   "id": "e0e6e49b",
   "metadata": {},
   "outputs": [
    {
     "name": "stdout",
     "output_type": "stream",
     "text": [
      "Name: Mountain Bike\n"
     ]
    }
   ],
   "source": [
    "print(f\"Name: {bike1.name}\")\n"
   ]
  },
  {
   "cell_type": "code",
   "execution_count": null,
   "id": "d9f2f118",
   "metadata": {},
   "outputs": [],
   "source": []
  },
  {
   "cell_type": "code",
   "execution_count": 10,
   "id": "98f95051",
   "metadata": {},
   "outputs": [
    {
     "data": {
      "text/plain": [
       "{'name': 'Mountain Bike'}"
      ]
     },
     "execution_count": 10,
     "metadata": {},
     "output_type": "execute_result"
    }
   ],
   "source": [
    "bike1.__dict__"
   ]
  },
  {
   "cell_type": "code",
   "execution_count": null,
   "id": "5c36d45f",
   "metadata": {},
   "outputs": [],
   "source": []
  },
  {
   "cell_type": "markdown",
   "id": "8528f16c",
   "metadata": {},
   "source": [
    "### Python Inheritance"
   ]
  },
  {
   "cell_type": "code",
   "execution_count": 11,
   "id": "22a73375",
   "metadata": {},
   "outputs": [],
   "source": [
    "class Animal(object):\n",
    "    name = \"\"\n",
    "    def eat(self):\n",
    "        print(\"I can eat\")\n"
   ]
  },
  {
   "cell_type": "code",
   "execution_count": 12,
   "id": "a8731654",
   "metadata": {},
   "outputs": [],
   "source": [
    "class Dog(Animal):\n",
    "    def display(self):\n",
    "        print(\"My name is \", self.name)\n"
   ]
  },
  {
   "cell_type": "code",
   "execution_count": 13,
   "id": "969fa674",
   "metadata": {},
   "outputs": [
    {
     "name": "stdout",
     "output_type": "stream",
     "text": [
      "I can eat\n",
      "My name is  Rohu\n"
     ]
    }
   ],
   "source": [
    "labrador = Dog()\n",
    "labrador.name = \"Rohu\"\n",
    "labrador.eat()\n",
    "labrador.display()\n"
   ]
  },
  {
   "cell_type": "code",
   "execution_count": null,
   "id": "b36f31ac",
   "metadata": {},
   "outputs": [],
   "source": []
  },
  {
   "cell_type": "markdown",
   "id": "b67d6782",
   "metadata": {},
   "source": [
    "### overriding"
   ]
  },
  {
   "cell_type": "code",
   "execution_count": 14,
   "id": "eccd9832",
   "metadata": {},
   "outputs": [],
   "source": [
    "class Animal:\n",
    "    name = \"\"\n",
    "    def eat(self):\n",
    "        print(\"I can eat\")\n"
   ]
  },
  {
   "cell_type": "code",
   "execution_count": 15,
   "id": "88d765a7",
   "metadata": {},
   "outputs": [],
   "source": [
    "class Dog(Animal):\n",
    "    def eat(self):\n",
    "        print(\"I like to eat bones\")\n"
   ]
  },
  {
   "cell_type": "code",
   "execution_count": 16,
   "id": "c93a6599",
   "metadata": {},
   "outputs": [
    {
     "name": "stdout",
     "output_type": "stream",
     "text": [
      "I like to eat bones\n"
     ]
    }
   ],
   "source": [
    "labrador = Dog()\n",
    "labrador.eat()\n"
   ]
  },
  {
   "cell_type": "code",
   "execution_count": null,
   "id": "f0088600",
   "metadata": {},
   "outputs": [],
   "source": []
  },
  {
   "cell_type": "markdown",
   "id": "cec3157c",
   "metadata": {},
   "source": [
    "### super()"
   ]
  },
  {
   "cell_type": "code",
   "execution_count": 17,
   "id": "0e9e7868",
   "metadata": {},
   "outputs": [],
   "source": [
    "class Animal:\n",
    "    name = \"\"\n",
    "    def eat(self):\n",
    "        print(\"I can eat\")\n"
   ]
  },
  {
   "cell_type": "code",
   "execution_count": 18,
   "id": "f279ab09",
   "metadata": {},
   "outputs": [],
   "source": [
    "class Dog(Animal):\n",
    "    def eat(self):\n",
    "        super().eat()        \n",
    "        print(\"I like to eat bones\")\n"
   ]
  },
  {
   "cell_type": "code",
   "execution_count": 19,
   "id": "57164bf8",
   "metadata": {},
   "outputs": [
    {
     "name": "stdout",
     "output_type": "stream",
     "text": [
      "I can eat\n",
      "I like to eat bones\n"
     ]
    }
   ],
   "source": [
    "labrador = Dog()\n",
    "labrador.eat()\n"
   ]
  },
  {
   "cell_type": "code",
   "execution_count": null,
   "id": "6c74d484",
   "metadata": {},
   "outputs": [],
   "source": []
  },
  {
   "cell_type": "code",
   "execution_count": 20,
   "id": "53dc1c3d",
   "metadata": {},
   "outputs": [],
   "source": [
    "class Person:\n",
    "    def __init__(self, fname, lname):\n",
    "        self.firstname = fname\n",
    "        self.lastname = lname\n"
   ]
  },
  {
   "cell_type": "code",
   "execution_count": 21,
   "id": "bfa2db7f",
   "metadata": {},
   "outputs": [],
   "source": [
    "class Student(Person):\n",
    "    def __init__(self, fname, lname, year):\n",
    "        super().__init__(fname, lname)\n",
    "        self.graduationyear = year\n"
   ]
  },
  {
   "cell_type": "code",
   "execution_count": 22,
   "id": "004af9b0",
   "metadata": {},
   "outputs": [],
   "source": [
    "x = Student(\"Mike\", \"Olsen\", 2019)"
   ]
  },
  {
   "cell_type": "code",
   "execution_count": 23,
   "id": "4d2d176e",
   "metadata": {},
   "outputs": [
    {
     "data": {
      "text/plain": [
       "{'firstname': 'Mike', 'lastname': 'Olsen', 'graduationyear': 2019}"
      ]
     },
     "execution_count": 23,
     "metadata": {},
     "output_type": "execute_result"
    }
   ],
   "source": [
    "x.__dict__"
   ]
  },
  {
   "cell_type": "code",
   "execution_count": null,
   "id": "1c4d8c5b",
   "metadata": {},
   "outputs": [],
   "source": []
  },
  {
   "cell_type": "markdown",
   "id": "6c1d5928",
   "metadata": {},
   "source": [
    "### Multiple Inheritance\n"
   ]
  },
  {
   "cell_type": "code",
   "execution_count": 24,
   "id": "ac40775a",
   "metadata": {},
   "outputs": [],
   "source": [
    "class Mammal: \n",
    "    def mammal_info(self):\n",
    "        print(\"Mammals can give direct birth.\")\n"
   ]
  },
  {
   "cell_type": "code",
   "execution_count": 25,
   "id": "e07a2c5c",
   "metadata": {},
   "outputs": [],
   "source": [
    "class WingedAnimal: \n",
    "    def winged_animal_info(self):\n",
    "        print(\"Winged animals can flap.\")"
   ]
  },
  {
   "cell_type": "code",
   "execution_count": 26,
   "id": "dfe40011",
   "metadata": {},
   "outputs": [],
   "source": [
    "class Bat(Mammal, WingedAnimal):\n",
    "    pass\n"
   ]
  },
  {
   "cell_type": "code",
   "execution_count": 27,
   "id": "97ba2602",
   "metadata": {},
   "outputs": [
    {
     "name": "stdout",
     "output_type": "stream",
     "text": [
      "Mammals can give direct birth.\n",
      "Winged animals can flap.\n"
     ]
    }
   ],
   "source": [
    "b1 = Bat()\n",
    "b1.mammal_info()\n",
    "b1.winged_animal_info()\n"
   ]
  },
  {
   "cell_type": "code",
   "execution_count": null,
   "id": "73f4ba24",
   "metadata": {},
   "outputs": [],
   "source": []
  },
  {
   "cell_type": "markdown",
   "id": "5efe7a5f",
   "metadata": {},
   "source": [
    "### Multilevel Inheritance"
   ]
  },
  {
   "cell_type": "code",
   "execution_count": 28,
   "id": "41bc78ea",
   "metadata": {},
   "outputs": [],
   "source": [
    "class SuperClass:\n",
    "    def super_method(self):\n",
    "        print(\"Super Class method called\")\n"
   ]
  },
  {
   "cell_type": "code",
   "execution_count": 29,
   "id": "940b2670",
   "metadata": {},
   "outputs": [],
   "source": [
    "class DerivedClass1(SuperClass):\n",
    "    def derived1_method(self):\n",
    "        print(\"Derived class 1 method called\")\n"
   ]
  },
  {
   "cell_type": "code",
   "execution_count": 30,
   "id": "8650a811",
   "metadata": {},
   "outputs": [],
   "source": [
    "class DerivedClass2(DerivedClass1):\n",
    "    def derived2_method(self):\n",
    "        print(\"Derived class 2 method called\")\n"
   ]
  },
  {
   "cell_type": "code",
   "execution_count": 31,
   "id": "da9011b7",
   "metadata": {},
   "outputs": [
    {
     "name": "stdout",
     "output_type": "stream",
     "text": [
      "Super Class method called\n"
     ]
    }
   ],
   "source": [
    "d2 = DerivedClass2()\n",
    "d2.super_method()  "
   ]
  },
  {
   "cell_type": "code",
   "execution_count": 32,
   "id": "32c29d56",
   "metadata": {},
   "outputs": [
    {
     "name": "stdout",
     "output_type": "stream",
     "text": [
      "Derived class 1 method called\n"
     ]
    }
   ],
   "source": [
    "d2.derived1_method()\n"
   ]
  },
  {
   "cell_type": "code",
   "execution_count": 33,
   "id": "67b63120",
   "metadata": {},
   "outputs": [
    {
     "name": "stdout",
     "output_type": "stream",
     "text": [
      "Derived class 2 method called\n"
     ]
    }
   ],
   "source": [
    "d2.derived2_method()"
   ]
  },
  {
   "cell_type": "code",
   "execution_count": null,
   "id": "37ef3230",
   "metadata": {},
   "outputs": [],
   "source": []
  },
  {
   "cell_type": "code",
   "execution_count": 34,
   "id": "eb6678bb",
   "metadata": {},
   "outputs": [
    {
     "name": "stdout",
     "output_type": "stream",
     "text": [
      "B\n"
     ]
    }
   ],
   "source": [
    "class A:\n",
    "    def one(self):\n",
    "        return self.two()\n",
    "    def two(self):\n",
    "        print('A')\n",
    "class B(A):\n",
    "    def two(self):\n",
    "        print('B')\n",
    "def main():\n",
    "    my_object = B()\n",
    "    my_object.two()\n",
    "main()\n"
   ]
  },
  {
   "cell_type": "code",
   "execution_count": null,
   "id": "a75d6750",
   "metadata": {},
   "outputs": [],
   "source": []
  },
  {
   "cell_type": "markdown",
   "id": "3273638c",
   "metadata": {},
   "source": [
    "### isinstance "
   ]
  },
  {
   "cell_type": "code",
   "execution_count": 35,
   "id": "c8045afb",
   "metadata": {},
   "outputs": [
    {
     "name": "stdout",
     "output_type": "stream",
     "text": [
      "True\n",
      "False\n"
     ]
    }
   ],
   "source": [
    "print(isinstance(2, int))\n",
    "print(isinstance(\"text\", int))\n"
   ]
  },
  {
   "cell_type": "code",
   "execution_count": null,
   "id": "929f2b5f",
   "metadata": {},
   "outputs": [],
   "source": []
  },
  {
   "cell_type": "markdown",
   "id": "5462d2a4",
   "metadata": {},
   "source": [
    "### issubclass"
   ]
  },
  {
   "cell_type": "code",
   "execution_count": 37,
   "id": "aafa80fd",
   "metadata": {},
   "outputs": [
    {
     "name": "stdout",
     "output_type": "stream",
     "text": [
      "True\n"
     ]
    }
   ],
   "source": [
    "print(issubclass(Dog,Animal))"
   ]
  },
  {
   "cell_type": "code",
   "execution_count": null,
   "id": "6bc44500",
   "metadata": {},
   "outputs": [],
   "source": []
  },
  {
   "cell_type": "markdown",
   "id": "77107195",
   "metadata": {},
   "source": [
    "### Python Encapsulation"
   ]
  },
  {
   "cell_type": "code",
   "execution_count": 38,
   "id": "485a6fe4",
   "metadata": {},
   "outputs": [],
   "source": [
    "class Computer:\n",
    "    def __init__(self):\n",
    "        self.__maxprice = 900\n",
    "    def sell(self):\n",
    "        print(\"Selling Price: {}\".format(self.__maxprice))\n",
    "    def setMaxPrice(self, price):\n",
    "        self.__maxprice = price\n"
   ]
  },
  {
   "cell_type": "code",
   "execution_count": 39,
   "id": "56ededb0",
   "metadata": {},
   "outputs": [
    {
     "name": "stdout",
     "output_type": "stream",
     "text": [
      "Selling Price: 900\n"
     ]
    }
   ],
   "source": [
    "c = Computer()\n",
    "c.sell()\n"
   ]
  },
  {
   "cell_type": "code",
   "execution_count": 40,
   "id": "222dcd00",
   "metadata": {},
   "outputs": [
    {
     "name": "stdout",
     "output_type": "stream",
     "text": [
      "Selling Price: 900\n"
     ]
    }
   ],
   "source": [
    "c.__maxprice = 1000\n",
    "c.sell()\n"
   ]
  },
  {
   "cell_type": "code",
   "execution_count": 41,
   "id": "82e04df6",
   "metadata": {},
   "outputs": [
    {
     "name": "stdout",
     "output_type": "stream",
     "text": [
      "Selling Price: 1000\n"
     ]
    }
   ],
   "source": [
    "c.setMaxPrice(1000)\n",
    "c.sell()\n"
   ]
  },
  {
   "cell_type": "code",
   "execution_count": 42,
   "id": "02965c8f",
   "metadata": {},
   "outputs": [
    {
     "data": {
      "text/plain": [
       "1000"
      ]
     },
     "execution_count": 42,
     "metadata": {},
     "output_type": "execute_result"
    }
   ],
   "source": [
    "c.__maxprice"
   ]
  },
  {
   "cell_type": "markdown",
   "id": "a7564b23",
   "metadata": {},
   "source": [
    "### Polymorphism"
   ]
  },
  {
   "cell_type": "code",
   "execution_count": 43,
   "id": "950b2dc3",
   "metadata": {},
   "outputs": [],
   "source": [
    "class Polygon:\n",
    "    def render(self):\n",
    "        print(\"Rendering Polygon...\")\n",
    "\n",
    "class Square(Polygon):\n",
    "    def render(self):\n",
    "        print(\"Rendering Square...\")\n",
    "\n",
    "class Circle(Polygon):\n",
    "    def render(self):\n",
    "        print(\"Rendering Circle...\")\n"
   ]
  },
  {
   "cell_type": "code",
   "execution_count": 44,
   "id": "caff7fb1",
   "metadata": {},
   "outputs": [
    {
     "name": "stdout",
     "output_type": "stream",
     "text": [
      "Rendering Square...\n"
     ]
    }
   ],
   "source": [
    "s1 = Square()\n",
    "s1.render()"
   ]
  },
  {
   "cell_type": "code",
   "execution_count": 45,
   "id": "a251bb47",
   "metadata": {},
   "outputs": [
    {
     "name": "stdout",
     "output_type": "stream",
     "text": [
      "Rendering Circle...\n"
     ]
    }
   ],
   "source": [
    "c1 = Circle()\n",
    "c1.render()\n"
   ]
  },
  {
   "cell_type": "code",
   "execution_count": null,
   "id": "1553ccb1",
   "metadata": {},
   "outputs": [],
   "source": []
  },
  {
   "cell_type": "markdown",
   "id": "bef36938",
   "metadata": {},
   "source": [
    "### Python Operator Overloading"
   ]
  },
  {
   "cell_type": "code",
   "execution_count": 61,
   "id": "00e1d7f7",
   "metadata": {},
   "outputs": [],
   "source": [
    "class Point(object):\n",
    "    def __init__(self, x=0, y=0):\n",
    "        self.x = x\n",
    "        self.y = y\n",
    "\n",
    "    def __str__(self):\n",
    "        return \"({0},{1})\".format(self.x, self.y)\n",
    "\n",
    "    def __add__(self, other):\n",
    "        x = self.x + other.x\n",
    "        y = self.y + other.y\n",
    "        return Point(x, y)\n",
    "    \n",
    "    def getField(self,name):\n",
    "        return self.__dict__[name]"
   ]
  },
  {
   "cell_type": "code",
   "execution_count": 62,
   "id": "2429d11a",
   "metadata": {},
   "outputs": [
    {
     "name": "stdout",
     "output_type": "stream",
     "text": [
      "(3,5)\n"
     ]
    }
   ],
   "source": [
    "p1 = Point(1, 2)\n",
    "p2 = Point(2, 3)\n",
    "print(p1+p2)\n"
   ]
  },
  {
   "cell_type": "code",
   "execution_count": 53,
   "id": "3a86e1bc",
   "metadata": {},
   "outputs": [
    {
     "name": "stdout",
     "output_type": "stream",
     "text": [
      "['__class__', '__delattr__', '__dir__', '__doc__', '__eq__', '__format__', '__ge__', '__getattribute__', '__gt__', '__hash__', '__init__', '__init_subclass__', '__le__', '__lt__', '__ne__', '__new__', '__reduce__', '__reduce_ex__', '__repr__', '__setattr__', '__sizeof__', '__str__', '__subclasshook__']\n"
     ]
    }
   ],
   "source": [
    "print(dir(object))"
   ]
  },
  {
   "cell_type": "markdown",
   "id": "0ea1a37e",
   "metadata": {},
   "source": [
    "### Good practices functions"
   ]
  },
  {
   "cell_type": "code",
   "execution_count": 57,
   "id": "ef9643f6",
   "metadata": {},
   "outputs": [],
   "source": [
    "def getField(self,name):\n",
    "    return self.__dict__[name]"
   ]
  },
  {
   "cell_type": "code",
   "execution_count": 58,
   "id": "0ef17f93",
   "metadata": {},
   "outputs": [
    {
     "data": {
      "text/plain": [
       "{'x': 2, 'y': 3}"
      ]
     },
     "execution_count": 58,
     "metadata": {},
     "output_type": "execute_result"
    }
   ],
   "source": [
    "p2.__dict__"
   ]
  },
  {
   "cell_type": "code",
   "execution_count": 63,
   "id": "b4fdc8fc",
   "metadata": {},
   "outputs": [
    {
     "data": {
      "text/plain": [
       "2"
      ]
     },
     "execution_count": 63,
     "metadata": {},
     "output_type": "execute_result"
    }
   ],
   "source": [
    "p2.getField(\"x\")"
   ]
  },
  {
   "cell_type": "code",
   "execution_count": null,
   "id": "124d5438",
   "metadata": {},
   "outputs": [],
   "source": []
  },
  {
   "cell_type": "code",
   "execution_count": null,
   "id": "3ad07bef",
   "metadata": {},
   "outputs": [],
   "source": [
    "def __getatt__(self,name):\n",
    "    pass"
   ]
  },
  {
   "cell_type": "code",
   "execution_count": null,
   "id": "774e2338",
   "metadata": {},
   "outputs": [],
   "source": []
  },
  {
   "cell_type": "code",
   "execution_count": 64,
   "id": "728ef782",
   "metadata": {},
   "outputs": [
    {
     "ename": "IndentationError",
     "evalue": "expected an indented block (Temp/ipykernel_1444/817721731.py, line 2)",
     "output_type": "error",
     "traceback": [
      "\u001b[1;36m  File \u001b[1;32m\"C:\\Users\\DD43~1\\AppData\\Local\\Temp/ipykernel_1444/817721731.py\"\u001b[1;36m, line \u001b[1;32m2\u001b[0m\n\u001b[1;33m    \u001b[0m\n\u001b[1;37m    ^\u001b[0m\n\u001b[1;31mIndentationError\u001b[0m\u001b[1;31m:\u001b[0m expected an indented block\n"
     ]
    }
   ],
   "source": [
    "def __setatt__(self,name):\n",
    "    pass"
   ]
  },
  {
   "cell_type": "code",
   "execution_count": null,
   "id": "727a4357",
   "metadata": {},
   "outputs": [],
   "source": []
  }
 ],
 "metadata": {
  "kernelspec": {
   "display_name": "Python 3 (ipykernel)",
   "language": "python",
   "name": "python3"
  },
  "language_info": {
   "codemirror_mode": {
    "name": "ipython",
    "version": 3
   },
   "file_extension": ".py",
   "mimetype": "text/x-python",
   "name": "python",
   "nbconvert_exporter": "python",
   "pygments_lexer": "ipython3",
   "version": "3.9.7"
  }
 },
 "nbformat": 4,
 "nbformat_minor": 5
}
