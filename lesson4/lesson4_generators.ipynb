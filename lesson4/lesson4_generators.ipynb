{
 "cells": [
  {
   "cell_type": "markdown",
   "id": "b2fee55c",
   "metadata": {},
   "source": [
    "## Generators\n"
   ]
  },
  {
   "cell_type": "markdown",
   "id": "b3adb0f1",
   "metadata": {},
   "source": [
    "### lazy list"
   ]
  },
  {
   "cell_type": "code",
   "execution_count": null,
   "id": "9392d81d",
   "metadata": {},
   "outputs": [],
   "source": [
    "# Do not try this at home.\n",
    "#huge_list = [n for n in range(10 ** 10) if is_prime(n)]\n",
    "#for prime_number in huge_list:\n",
    "#    print(prime_number)\n"
   ]
  },
  {
   "cell_type": "code",
   "execution_count": null,
   "id": "0759cf2a",
   "metadata": {},
   "outputs": [],
   "source": []
  },
  {
   "cell_type": "markdown",
   "id": "5e452a5d",
   "metadata": {},
   "source": [
    "### Generator Expression\n",
    "new_generator = (expression for item in sequence if condition)\n"
   ]
  },
  {
   "cell_type": "code",
   "execution_count": null,
   "id": "513e92be",
   "metadata": {},
   "outputs": [],
   "source": [
    "# Do not try this at home.\n",
    "#prime_generator = (n for n in range(10 ** 10) if is_prime(n))\n",
    "#for prime_number in prime_generator:\n",
    "#    print(prime_number)\n"
   ]
  },
  {
   "cell_type": "code",
   "execution_count": 9,
   "id": "e081df16",
   "metadata": {},
   "outputs": [],
   "source": [
    "prime_generator = (n for n in range(10 ** 100))\n",
    "\n"
   ]
  },
  {
   "cell_type": "code",
   "execution_count": 10,
   "id": "912f5d64",
   "metadata": {
    "scrolled": true
   },
   "outputs": [
    {
     "name": "stdout",
     "output_type": "stream",
     "text": [
      "<generator object <genexpr> at 0x00000225FEAFABA0>\n"
     ]
    }
   ],
   "source": [
    "print(prime_generator)"
   ]
  },
  {
   "cell_type": "code",
   "execution_count": null,
   "id": "50068d41",
   "metadata": {},
   "outputs": [],
   "source": []
  },
  {
   "cell_type": "code",
   "execution_count": null,
   "id": "614e2e94",
   "metadata": {},
   "outputs": [],
   "source": []
  },
  {
   "cell_type": "markdown",
   "id": "9f470a7e",
   "metadata": {},
   "source": [
    "### next()"
   ]
  },
  {
   "cell_type": "code",
   "execution_count": 3,
   "id": "0ac51d95",
   "metadata": {},
   "outputs": [
    {
     "name": "stdout",
     "output_type": "stream",
     "text": [
      "0\n"
     ]
    }
   ],
   "source": [
    "print(next(prime_generator))\n"
   ]
  },
  {
   "cell_type": "code",
   "execution_count": 4,
   "id": "a2bd736a",
   "metadata": {},
   "outputs": [
    {
     "name": "stdout",
     "output_type": "stream",
     "text": [
      "1\n"
     ]
    }
   ],
   "source": [
    "print(next(prime_generator))"
   ]
  },
  {
   "cell_type": "code",
   "execution_count": 5,
   "id": "88de3cca",
   "metadata": {},
   "outputs": [
    {
     "name": "stdout",
     "output_type": "stream",
     "text": [
      "2\n"
     ]
    }
   ],
   "source": [
    "print(next(prime_generator))"
   ]
  },
  {
   "cell_type": "code",
   "execution_count": null,
   "id": "f08b08c8",
   "metadata": {},
   "outputs": [],
   "source": []
  },
  {
   "cell_type": "markdown",
   "id": "68b1441f",
   "metadata": {},
   "source": [
    "### What will return in the second call?"
   ]
  },
  {
   "cell_type": "code",
   "execution_count": 6,
   "id": "0cc9febc",
   "metadata": {},
   "outputs": [],
   "source": [
    "gen = (i / 2 for i in [0, 9, 21, 32])"
   ]
  },
  {
   "cell_type": "code",
   "execution_count": 8,
   "id": "808eef6e",
   "metadata": {},
   "outputs": [
    {
     "data": {
      "text/plain": [
       "4.5"
      ]
     },
     "execution_count": 8,
     "metadata": {},
     "output_type": "execute_result"
    }
   ],
   "source": [
    "next(gen)"
   ]
  },
  {
   "cell_type": "code",
   "execution_count": null,
   "id": "0af3fade",
   "metadata": {},
   "outputs": [],
   "source": []
  },
  {
   "cell_type": "code",
   "execution_count": 11,
   "id": "8b075c14",
   "metadata": {},
   "outputs": [],
   "source": [
    "def permutate(seq):\n",
    "    \"\"\"permutate a sequence and return a list of the permutations\"\"\"\n",
    "    if not seq:\n",
    "        return [seq] # is an empty sequence\n",
    "    else:\n",
    "        temp_perm = []\n",
    "        for i in range(len(seq)):\n",
    "            part = seq[:i] + seq[i+1:]\n",
    "            for p in permutate(part):\n",
    "                temp_perm.append(seq[i:i+1] + p)\n",
    "        return temp_perm\n"
   ]
  },
  {
   "cell_type": "code",
   "execution_count": 12,
   "id": "eab25fc5",
   "metadata": {
    "scrolled": true
   },
   "outputs": [
    {
     "name": "stdout",
     "output_type": "stream",
     "text": [
      "(0, 5, 6, 9)\n",
      "(0, 5, 9, 6)\n",
      "(0, 6, 5, 9)\n",
      "(0, 6, 9, 5)\n",
      "(0, 9, 5, 6)\n",
      "(0, 9, 6, 5)\n",
      "(5, 0, 6, 9)\n",
      "(5, 0, 9, 6)\n",
      "(5, 6, 0, 9)\n",
      "(5, 6, 9, 0)\n",
      "(5, 9, 0, 6)\n",
      "(5, 9, 6, 0)\n",
      "(6, 0, 5, 9)\n",
      "(6, 0, 9, 5)\n",
      "(6, 5, 0, 9)\n",
      "(6, 5, 9, 0)\n",
      "(6, 9, 0, 5)\n",
      "(6, 9, 5, 0)\n",
      "(9, 0, 5, 6)\n",
      "(9, 0, 6, 5)\n",
      "(9, 5, 0, 6)\n",
      "(9, 5, 6, 0)\n",
      "(9, 6, 0, 5)\n",
      "(9, 6, 5, 0)\n"
     ]
    }
   ],
   "source": [
    "import itertools\n",
    "for permutation in itertools.permutations([0, 5, 6, 9]):\n",
    "    print(permutation)\n"
   ]
  },
  {
   "cell_type": "code",
   "execution_count": null,
   "id": "09e88f73",
   "metadata": {},
   "outputs": [],
   "source": []
  },
  {
   "cell_type": "markdown",
   "id": "40ccca2e",
   "metadata": {},
   "source": [
    "### Generator Function\n",
    "<pre>def generator_name(param1, [param2, …]):\n",
    "    #Your code here\n",
    "    yield value\n",
    "</pre>"
   ]
  },
  {
   "cell_type": "code",
   "execution_count": 13,
   "id": "77b84f03",
   "metadata": {},
   "outputs": [],
   "source": [
    "def city_generator():\n",
    "    print(\"Starting\")\n",
    "    yield \"London\"\n",
    "    yield \"Berlin\"\n",
    "    yield \"Amsterdam\"\n"
   ]
  },
  {
   "cell_type": "code",
   "execution_count": 20,
   "id": "f71b48d6",
   "metadata": {},
   "outputs": [
    {
     "name": "stdout",
     "output_type": "stream",
     "text": [
      "<generator object city_generator at 0x00000225FEC95430>\n"
     ]
    }
   ],
   "source": [
    "city = city_generator()\n",
    "print(city)\n"
   ]
  },
  {
   "cell_type": "code",
   "execution_count": 15,
   "id": "fea10e3b",
   "metadata": {},
   "outputs": [
    {
     "name": "stdout",
     "output_type": "stream",
     "text": [
      "Starting\n",
      "London\n"
     ]
    }
   ],
   "source": [
    "print(next(city))"
   ]
  },
  {
   "cell_type": "code",
   "execution_count": 16,
   "id": "443e6655",
   "metadata": {},
   "outputs": [
    {
     "name": "stdout",
     "output_type": "stream",
     "text": [
      "Berlin\n"
     ]
    }
   ],
   "source": [
    "print(next(city))"
   ]
  },
  {
   "cell_type": "code",
   "execution_count": 17,
   "id": "e5e5daca",
   "metadata": {},
   "outputs": [
    {
     "name": "stdout",
     "output_type": "stream",
     "text": [
      "Amsterdam\n"
     ]
    }
   ],
   "source": [
    "print(next(city))"
   ]
  },
  {
   "cell_type": "code",
   "execution_count": 26,
   "id": "02628b33",
   "metadata": {},
   "outputs": [
    {
     "ename": "StopIteration",
     "evalue": "",
     "output_type": "error",
     "traceback": [
      "\u001b[1;31m---------------------------------------------------------------------------\u001b[0m",
      "\u001b[1;31mStopIteration\u001b[0m                             Traceback (most recent call last)",
      "\u001b[1;32mC:\\Users\\DD43~1\\AppData\\Local\\Temp/ipykernel_11068/3395091623.py\u001b[0m in \u001b[0;36m<module>\u001b[1;34m\u001b[0m\n\u001b[1;32m----> 1\u001b[1;33m \u001b[0mprint\u001b[0m\u001b[1;33m(\u001b[0m\u001b[0mnext\u001b[0m\u001b[1;33m(\u001b[0m\u001b[0mcity\u001b[0m\u001b[1;33m)\u001b[0m\u001b[1;33m)\u001b[0m\u001b[1;33m\u001b[0m\u001b[1;33m\u001b[0m\u001b[0m\n\u001b[0m",
      "\u001b[1;31mStopIteration\u001b[0m: "
     ]
    }
   ],
   "source": [
    "print(next(city))"
   ]
  },
  {
   "cell_type": "code",
   "execution_count": 25,
   "id": "8cb3ad9d",
   "metadata": {
    "scrolled": true
   },
   "outputs": [
    {
     "name": "stdout",
     "output_type": "stream",
     "text": [
      "finished!\n"
     ]
    }
   ],
   "source": [
    "print(next(city,\"finished!\"))"
   ]
  },
  {
   "cell_type": "code",
   "execution_count": null,
   "id": "1bf14ac3",
   "metadata": {},
   "outputs": [],
   "source": []
  },
  {
   "cell_type": "code",
   "execution_count": null,
   "id": "850efba1",
   "metadata": {},
   "outputs": [],
   "source": []
  },
  {
   "cell_type": "code",
   "execution_count": 27,
   "id": "52da48e5",
   "metadata": {},
   "outputs": [
    {
     "name": "stdout",
     "output_type": "stream",
     "text": [
      "Starting\n",
      "London\n",
      "Berlin\n",
      "Amsterdam\n"
     ]
    }
   ],
   "source": [
    "city_loop_genx = city_generator()\n",
    "for city in city_loop_genx:\n",
    "    print(city)\n"
   ]
  },
  {
   "cell_type": "code",
   "execution_count": null,
   "id": "b80880ec",
   "metadata": {},
   "outputs": [],
   "source": []
  },
  {
   "cell_type": "markdown",
   "id": "3df03072",
   "metadata": {},
   "source": [
    "### ### What will return?"
   ]
  },
  {
   "cell_type": "code",
   "execution_count": 49,
   "id": "254dea60",
   "metadata": {},
   "outputs": [
    {
     "name": "stdout",
     "output_type": "stream",
     "text": [
      "6\n",
      "7\n",
      "8\n"
     ]
    }
   ],
   "source": [
    "def my_gen(x, y):\n",
    "    x += 1\n",
    "    while x < y:\n",
    "        yield x\n",
    "\n",
    "#for i in my_gen(6, 9):\n",
    "#    print(i)\n"
   ]
  },
  {
   "cell_type": "code",
   "execution_count": null,
   "id": "ff1a9c02",
   "metadata": {},
   "outputs": [],
   "source": []
  },
  {
   "cell_type": "markdown",
   "id": "4cc14cac",
   "metadata": {},
   "source": [
    "### yield from\n",
    "<pre>\n",
    "def generator_name(param1, [param2, …]):\n",
    "    yield from generator_function_name\n",
    "</pre>"
   ]
  },
  {
   "cell_type": "code",
   "execution_count": 28,
   "id": "17ac6d7d",
   "metadata": {},
   "outputs": [],
   "source": [
    "def city_generator():\n",
    "    print(\"Starting\")\n",
    "    yield \"London\"\n",
    "    yield \"Berlin\"\n",
    "    yield \"Amsterdam\"\n"
   ]
  },
  {
   "cell_type": "code",
   "execution_count": 29,
   "id": "3179bc89",
   "metadata": {},
   "outputs": [],
   "source": [
    "def add_jerusalem_generator():\n",
    "    yield from city_generator()\n",
    "    yield \"Jerusalem\"\n"
   ]
  },
  {
   "cell_type": "code",
   "execution_count": 36,
   "id": "11029379",
   "metadata": {},
   "outputs": [],
   "source": [
    "capital_cities = add_jerusalem_generator()\n"
   ]
  },
  {
   "cell_type": "code",
   "execution_count": 37,
   "id": "3fddb720",
   "metadata": {},
   "outputs": [
    {
     "name": "stdout",
     "output_type": "stream",
     "text": [
      "Starting\n",
      "London\n"
     ]
    }
   ],
   "source": [
    "print(next(capital_cities))"
   ]
  },
  {
   "cell_type": "code",
   "execution_count": 39,
   "id": "e4796b31",
   "metadata": {},
   "outputs": [
    {
     "name": "stdout",
     "output_type": "stream",
     "text": [
      "Berlin\n"
     ]
    }
   ],
   "source": [
    "print(next(capital_cities))"
   ]
  },
  {
   "cell_type": "code",
   "execution_count": 33,
   "id": "4fb85175",
   "metadata": {},
   "outputs": [
    {
     "name": "stdout",
     "output_type": "stream",
     "text": [
      "Amsterdam\n"
     ]
    }
   ],
   "source": [
    "print(next(capital_cities))"
   ]
  },
  {
   "cell_type": "code",
   "execution_count": 35,
   "id": "676c15eb",
   "metadata": {},
   "outputs": [
    {
     "ename": "StopIteration",
     "evalue": "",
     "output_type": "error",
     "traceback": [
      "\u001b[1;31m---------------------------------------------------------------------------\u001b[0m",
      "\u001b[1;31mStopIteration\u001b[0m                             Traceback (most recent call last)",
      "\u001b[1;32mC:\\Users\\DD43~1\\AppData\\Local\\Temp/ipykernel_11068/3244334130.py\u001b[0m in \u001b[0;36m<module>\u001b[1;34m\u001b[0m\n\u001b[1;32m----> 1\u001b[1;33m \u001b[0mprint\u001b[0m\u001b[1;33m(\u001b[0m\u001b[0mnext\u001b[0m\u001b[1;33m(\u001b[0m\u001b[0mcapital_cities\u001b[0m\u001b[1;33m)\u001b[0m\u001b[1;33m)\u001b[0m\u001b[1;33m\u001b[0m\u001b[1;33m\u001b[0m\u001b[0m\n\u001b[0m",
      "\u001b[1;31mStopIteration\u001b[0m: "
     ]
    }
   ],
   "source": [
    "print(next(capital_cities))"
   ]
  },
  {
   "cell_type": "code",
   "execution_count": null,
   "id": "b91f12a7",
   "metadata": {},
   "outputs": [],
   "source": []
  },
  {
   "cell_type": "markdown",
   "id": "6a1cf0eb",
   "metadata": {},
   "source": [
    "### Generator function VS Normal Function\n"
   ]
  },
  {
   "cell_type": "markdown",
   "id": "c33b96b6",
   "metadata": {},
   "source": [
    "### Function call"
   ]
  },
  {
   "cell_type": "code",
   "execution_count": 40,
   "id": "4443546a",
   "metadata": {},
   "outputs": [
    {
     "name": "stdout",
     "output_type": "stream",
     "text": [
      "<generator object gen1 at 0x00000225FECAC0B0>\n"
     ]
    }
   ],
   "source": [
    "def gen1():\n",
    "     yield 1\n",
    "     yield 2\n",
    "x = gen1()\n",
    "print(x)\n"
   ]
  },
  {
   "cell_type": "code",
   "execution_count": 41,
   "id": "ec259a2d",
   "metadata": {},
   "outputs": [
    {
     "name": "stdout",
     "output_type": "stream",
     "text": [
      "1\n"
     ]
    }
   ],
   "source": [
    "def func1():\n",
    "     return 1\n",
    "y = func1()\n",
    "print(y)\n"
   ]
  },
  {
   "cell_type": "code",
   "execution_count": null,
   "id": "1421cbaf",
   "metadata": {},
   "outputs": [],
   "source": []
  },
  {
   "cell_type": "markdown",
   "id": "283309d1",
   "metadata": {},
   "source": [
    "### Call back to the function"
   ]
  },
  {
   "cell_type": "code",
   "execution_count": 42,
   "id": "67585f49",
   "metadata": {},
   "outputs": [
    {
     "name": "stdout",
     "output_type": "stream",
     "text": [
      "2362211655008\n",
      "2362211745968\n"
     ]
    }
   ],
   "source": [
    "def gen2():\n",
    "     yield 1\n",
    "x = gen2()\n",
    "y = gen2()\n",
    "print(id(x))\n",
    "print(id(y))\n"
   ]
  },
  {
   "cell_type": "code",
   "execution_count": 43,
   "id": "c54f0cc8",
   "metadata": {},
   "outputs": [
    {
     "name": "stdout",
     "output_type": "stream",
     "text": [
      "2362128034096\n",
      "2362128034096\n"
     ]
    }
   ],
   "source": [
    "def func2():\n",
    "     return 1\n",
    "x = func2()\n",
    "y = func2()\n",
    "print(id(x))\n",
    "print(id(y))\n"
   ]
  },
  {
   "cell_type": "code",
   "execution_count": null,
   "id": "eecb278f",
   "metadata": {},
   "outputs": [],
   "source": []
  },
  {
   "cell_type": "markdown",
   "id": "e8c9fd87",
   "metadata": {},
   "source": [
    "### Returning and generating values"
   ]
  },
  {
   "cell_type": "code",
   "execution_count": 44,
   "id": "bf62dea3",
   "metadata": {
    "scrolled": true
   },
   "outputs": [
    {
     "name": "stdout",
     "output_type": "stream",
     "text": [
      "1\n",
      "2\n"
     ]
    }
   ],
   "source": [
    "def gen3():\n",
    "    yield 1\n",
    "    yield 2\n",
    "x = gen3()\n",
    "print(next(x))\n",
    "print(next(x))\n"
   ]
  },
  {
   "cell_type": "code",
   "execution_count": 45,
   "id": "fda57d73",
   "metadata": {},
   "outputs": [
    {
     "name": "stdout",
     "output_type": "stream",
     "text": [
      "1\n",
      "1\n"
     ]
    }
   ],
   "source": [
    "def func3():\n",
    "     return 1\n",
    "     return 2\n",
    "print(func3())\n",
    "print(func3())\n"
   ]
  },
  {
   "cell_type": "code",
   "execution_count": null,
   "id": "24c42b06",
   "metadata": {},
   "outputs": [],
   "source": []
  },
  {
   "cell_type": "markdown",
   "id": "5320bd82",
   "metadata": {},
   "source": [
    "### The scope"
   ]
  },
  {
   "cell_type": "code",
   "execution_count": 47,
   "id": "5bb66bc2",
   "metadata": {},
   "outputs": [
    {
     "name": "stdout",
     "output_type": "stream",
     "text": [
      "0\n",
      "1\n",
      "2\n"
     ]
    },
    {
     "ename": "StopIteration",
     "evalue": "",
     "output_type": "error",
     "traceback": [
      "\u001b[1;31m---------------------------------------------------------------------------\u001b[0m",
      "\u001b[1;31mStopIteration\u001b[0m                             Traceback (most recent call last)",
      "\u001b[1;32mC:\\Users\\DD43~1\\AppData\\Local\\Temp/ipykernel_11068/520312555.py\u001b[0m in \u001b[0;36m<module>\u001b[1;34m\u001b[0m\n\u001b[0;32m      8\u001b[0m \u001b[0mprint\u001b[0m\u001b[1;33m(\u001b[0m\u001b[0mnext\u001b[0m\u001b[1;33m(\u001b[0m\u001b[0ms\u001b[0m\u001b[1;33m)\u001b[0m\u001b[1;33m)\u001b[0m\u001b[1;33m\u001b[0m\u001b[1;33m\u001b[0m\u001b[0m\n\u001b[0;32m      9\u001b[0m \u001b[0mprint\u001b[0m\u001b[1;33m(\u001b[0m\u001b[0mnext\u001b[0m\u001b[1;33m(\u001b[0m\u001b[0ms\u001b[0m\u001b[1;33m)\u001b[0m\u001b[1;33m)\u001b[0m\u001b[1;33m\u001b[0m\u001b[1;33m\u001b[0m\u001b[0m\n\u001b[1;32m---> 10\u001b[1;33m \u001b[0mprint\u001b[0m\u001b[1;33m(\u001b[0m\u001b[0mnext\u001b[0m\u001b[1;33m(\u001b[0m\u001b[0ms\u001b[0m\u001b[1;33m)\u001b[0m\u001b[1;33m)\u001b[0m\u001b[1;33m\u001b[0m\u001b[1;33m\u001b[0m\u001b[0m\n\u001b[0m\u001b[0;32m     11\u001b[0m \u001b[0mprint\u001b[0m\u001b[1;33m(\u001b[0m\u001b[0mnext\u001b[0m\u001b[1;33m(\u001b[0m\u001b[0ms\u001b[0m\u001b[1;33m)\u001b[0m\u001b[1;33m)\u001b[0m\u001b[1;33m\u001b[0m\u001b[1;33m\u001b[0m\u001b[0m\n",
      "\u001b[1;31mStopIteration\u001b[0m: "
     ]
    }
   ],
   "source": [
    "def gen4():\n",
    "    x = 0\n",
    "    while x < 3:\n",
    "        yield x\n",
    "        x += 1\n",
    "s = gen4()\n",
    "print(next(s))\n",
    "print(next(s))\n",
    "print(next(s))\n",
    "print(next(s))\n",
    "print(next(s))"
   ]
  },
  {
   "cell_type": "code",
   "execution_count": 48,
   "id": "04b40c2b",
   "metadata": {},
   "outputs": [
    {
     "name": "stdout",
     "output_type": "stream",
     "text": [
      "0\n",
      "0\n",
      "0\n"
     ]
    }
   ],
   "source": [
    "def func4():\n",
    "    x = 0\n",
    "    while x < 3:\n",
    "        return x\n",
    "        x += 1\n",
    "print(func4())\n",
    "print(func4())\n",
    "print(func4())\n"
   ]
  },
  {
   "cell_type": "code",
   "execution_count": null,
   "id": "e7397299",
   "metadata": {},
   "outputs": [],
   "source": []
  },
  {
   "cell_type": "code",
   "execution_count": null,
   "id": "9f2a94fa",
   "metadata": {},
   "outputs": [],
   "source": []
  },
  {
   "cell_type": "code",
   "execution_count": 50,
   "id": "36f744b2",
   "metadata": {},
   "outputs": [],
   "source": [
    "def fibonacci_numbers(nums):\n",
    "    x, y = 0, 1\n",
    "    for _ in range(nums):\n",
    "        x, y = y, x+y\n",
    "        yield x\n"
   ]
  },
  {
   "cell_type": "code",
   "execution_count": 51,
   "id": "6346c59d",
   "metadata": {},
   "outputs": [],
   "source": [
    "def square(nums):\n",
    "    for num in nums:\n",
    "        yield num**2\n"
   ]
  },
  {
   "cell_type": "code",
   "execution_count": 56,
   "id": "8f0b7b70",
   "metadata": {},
   "outputs": [
    {
     "name": "stdout",
     "output_type": "stream",
     "text": [
      "4895\n"
     ]
    }
   ],
   "source": [
    "print(sum(square(fibonacci_numbers(10))))"
   ]
  },
  {
   "cell_type": "code",
   "execution_count": 54,
   "id": "1ed91bc0",
   "metadata": {},
   "outputs": [],
   "source": []
  },
  {
   "cell_type": "code",
   "execution_count": null,
   "id": "0b6287ce",
   "metadata": {},
   "outputs": [],
   "source": []
  },
  {
   "cell_type": "markdown",
   "id": "984065bc",
   "metadata": {},
   "source": [
    "### iterable & iterator\n"
   ]
  },
  {
   "cell_type": "code",
   "execution_count": 60,
   "id": "7123aeec",
   "metadata": {},
   "outputs": [
    {
     "name": "stdout",
     "output_type": "stream",
     "text": [
      "['__class__', '__delattr__', '__dir__', '__doc__', '__eq__', '__format__', '__ge__', '__getattribute__', '__gt__', '__hash__', '__init__', '__init_subclass__', '__iter__', '__le__', '__length_hint__', '__lt__', '__ne__', '__new__', '__next__', '__reduce__', '__reduce_ex__', '__repr__', '__setattr__', '__setstate__', '__sizeof__', '__str__', '__subclasshook__']\n"
     ]
    }
   ],
   "source": [
    "my_list = [4, 7, 0]\n",
    "# create an iterator from the list\n",
    "iterator = iter(my_list)\n",
    "print(dir(iterator))"
   ]
  },
  {
   "cell_type": "code",
   "execution_count": null,
   "id": "f0876b4f",
   "metadata": {},
   "outputs": [],
   "source": []
  },
  {
   "cell_type": "code",
   "execution_count": 61,
   "id": "f18827d1",
   "metadata": {},
   "outputs": [
    {
     "name": "stdout",
     "output_type": "stream",
     "text": [
      "4\n",
      "7\n",
      "0\n"
     ]
    }
   ],
   "source": [
    "\n",
    "print(next(iterator))  \n",
    "print(next(iterator))  \n",
    "print(next(iterator))  \n"
   ]
  },
  {
   "cell_type": "code",
   "execution_count": null,
   "id": "6007b8a3",
   "metadata": {},
   "outputs": [],
   "source": []
  },
  {
   "cell_type": "code",
   "execution_count": 62,
   "id": "98f31778",
   "metadata": {},
   "outputs": [
    {
     "name": "stdout",
     "output_type": "stream",
     "text": [
      "4\n",
      "7\n",
      "0\n"
     ]
    }
   ],
   "source": [
    "\n",
    "my_list = [4, 7, 0]\n",
    "for element in my_list:\n",
    "    print(element)\n"
   ]
  },
  {
   "cell_type": "code",
   "execution_count": null,
   "id": "cfe4fad5",
   "metadata": {},
   "outputs": [],
   "source": []
  },
  {
   "cell_type": "code",
   "execution_count": 63,
   "id": "521df388",
   "metadata": {},
   "outputs": [
    {
     "name": "stdout",
     "output_type": "stream",
     "text": [
      "1\n",
      "2\n",
      "3\n",
      "4\n",
      "5\n"
     ]
    }
   ],
   "source": [
    "my_list = [1, 2, 3, 4, 5]\n",
    "iterator = iter(my_list)\n",
    "for element in iterator:\n",
    "    print(element)\n"
   ]
  },
  {
   "cell_type": "code",
   "execution_count": null,
   "id": "4c655960",
   "metadata": {},
   "outputs": [],
   "source": []
  },
  {
   "cell_type": "code",
   "execution_count": null,
   "id": "9b1769a0",
   "metadata": {},
   "outputs": [],
   "source": []
  }
 ],
 "metadata": {
  "kernelspec": {
   "display_name": "Python 3 (ipykernel)",
   "language": "python",
   "name": "python3"
  },
  "language_info": {
   "codemirror_mode": {
    "name": "ipython",
    "version": 3
   },
   "file_extension": ".py",
   "mimetype": "text/x-python",
   "name": "python",
   "nbconvert_exporter": "python",
   "pygments_lexer": "ipython3",
   "version": "3.9.7"
  }
 },
 "nbformat": 4,
 "nbformat_minor": 5
}
