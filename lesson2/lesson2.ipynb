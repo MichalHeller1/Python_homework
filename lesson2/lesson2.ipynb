{
 "cells": [
  {
   "cell_type": "markdown",
   "id": "e3fc1c35",
   "metadata": {},
   "source": [
    "בשביל לפתוח את ג'ופיטר מתיקיה מסוימת נכתוב ב:\n",
    "anaconda prompt:"
   ]
  },
  {
   "cell_type": "code",
   "execution_count": null,
   "id": "40f67610",
   "metadata": {},
   "outputs": [],
   "source": [
    "jupyter notebook --notebook-dir=D:"
   ]
  },
  {
   "cell_type": "markdown",
   "id": "02c7a860",
   "metadata": {},
   "source": [
    "home work:"
   ]
  },
  {
   "cell_type": "code",
   "execution_count": 1,
   "id": "426e22a3",
   "metadata": {},
   "outputs": [],
   "source": [
    "import datetime"
   ]
  },
  {
   "cell_type": "code",
   "execution_count": 7,
   "id": "22efa94f",
   "metadata": {},
   "outputs": [],
   "source": [
    "from datetime import datetime"
   ]
  },
  {
   "cell_type": "code",
   "execution_count": 9,
   "id": "628f9e4d",
   "metadata": {},
   "outputs": [],
   "source": [
    "import math"
   ]
  },
  {
   "cell_type": "code",
   "execution_count": 3,
   "id": "c6b71ed0",
   "metadata": {},
   "outputs": [],
   "source": [
    "from math import pi"
   ]
  },
  {
   "cell_type": "code",
   "execution_count": 10,
   "id": "de748ff6",
   "metadata": {},
   "outputs": [
    {
     "data": {
      "text/plain": [
       "3.141592653589793"
      ]
     },
     "execution_count": 10,
     "metadata": {},
     "output_type": "execute_result"
    }
   ],
   "source": [
    "math.pi"
   ]
  },
  {
   "cell_type": "code",
   "execution_count": 11,
   "id": "0d737df3",
   "metadata": {},
   "outputs": [
    {
     "data": {
      "text/plain": [
       "3.141592653589793"
      ]
     },
     "execution_count": 11,
     "metadata": {},
     "output_type": "execute_result"
    }
   ],
   "source": [
    "pi"
   ]
  },
  {
   "cell_type": "code",
   "execution_count": 6,
   "id": "7e307671",
   "metadata": {},
   "outputs": [
    {
     "data": {
      "text/plain": [
       "datetime.datetime(2023, 2, 27, 15, 0, 49, 712057)"
      ]
     },
     "execution_count": 6,
     "metadata": {},
     "output_type": "execute_result"
    }
   ],
   "source": [
    "datetime.datetime.now()"
   ]
  },
  {
   "cell_type": "code",
   "execution_count": 8,
   "id": "03cc8b08",
   "metadata": {},
   "outputs": [
    {
     "data": {
      "text/plain": [
       "datetime.datetime(2023, 2, 27, 15, 1, 8, 285998)"
      ]
     },
     "execution_count": 8,
     "metadata": {},
     "output_type": "execute_result"
    }
   ],
   "source": [
    "datetime.now()"
   ]
  },
  {
   "cell_type": "code",
   "execution_count": 12,
   "id": "a924b181",
   "metadata": {},
   "outputs": [],
   "source": [
    "datetime.strftime?"
   ]
  },
  {
   "cell_type": "code",
   "execution_count": 13,
   "id": "84898bfd",
   "metadata": {},
   "outputs": [],
   "source": [
    "now = datetime.now()"
   ]
  },
  {
   "cell_type": "code",
   "execution_count": 14,
   "id": "62bd2006",
   "metadata": {},
   "outputs": [
    {
     "data": {
      "text/plain": [
       "datetime.datetime(2023, 2, 27, 15, 6, 8, 722375)"
      ]
     },
     "execution_count": 14,
     "metadata": {},
     "output_type": "execute_result"
    }
   ],
   "source": [
    "now"
   ]
  },
  {
   "cell_type": "code",
   "execution_count": 16,
   "id": "f30bfcb9",
   "metadata": {},
   "outputs": [
    {
     "data": {
      "text/plain": [
       "'2023-02-27 15:06:08'"
      ]
     },
     "execution_count": 16,
     "metadata": {},
     "output_type": "execute_result"
    }
   ],
   "source": [
    "now.strftime(\"%Y-%m-%d %H:%M:%S\")"
   ]
  },
  {
   "cell_type": "markdown",
   "id": "b903edb2",
   "metadata": {},
   "source": [
    "lesson 2"
   ]
  },
  {
   "cell_type": "code",
   "execution_count": 17,
   "id": "1adb7c55",
   "metadata": {},
   "outputs": [],
   "source": [
    "str =\"hello world!!\""
   ]
  },
  {
   "cell_type": "code",
   "execution_count": 18,
   "id": "48dce119",
   "metadata": {},
   "outputs": [
    {
     "data": {
      "text/plain": [
       "'hello world'"
      ]
     },
     "execution_count": 18,
     "metadata": {},
     "output_type": "execute_result"
    }
   ],
   "source": [
    "str"
   ]
  },
  {
   "cell_type": "code",
   "execution_count": 19,
   "id": "8007131c",
   "metadata": {},
   "outputs": [
    {
     "data": {
      "text/plain": [
       "str"
      ]
     },
     "execution_count": 19,
     "metadata": {},
     "output_type": "execute_result"
    }
   ],
   "source": [
    "type(str)"
   ]
  },
  {
   "cell_type": "code",
   "execution_count": 31,
   "id": "afc0a793",
   "metadata": {},
   "outputs": [],
   "source": [
    "str = \"\"\"hello world!! \n",
    "        hello world!! \n",
    "    hello world!!\"\"\""
   ]
  },
  {
   "cell_type": "code",
   "execution_count": 33,
   "id": "cd5ae947",
   "metadata": {},
   "outputs": [
    {
     "name": "stdout",
     "output_type": "stream",
     "text": [
      "hello world!! \n",
      "        hello world!! \n",
      "    hello world!!\n"
     ]
    }
   ],
   "source": [
    "print(str)"
   ]
  },
  {
   "cell_type": "code",
   "execution_count": 34,
   "id": "74bc8a08",
   "metadata": {},
   "outputs": [
    {
     "data": {
      "text/plain": [
       "'hello world!! \\n        hello world!! \\n    hello world!!'"
      ]
     },
     "execution_count": 34,
     "metadata": {},
     "output_type": "execute_result"
    }
   ],
   "source": [
    "str"
   ]
  },
  {
   "cell_type": "code",
   "execution_count": 41,
   "id": "8d6ad2d5",
   "metadata": {},
   "outputs": [],
   "source": [
    "str = r'hello world!! \\n        hello world!! \\n    hello world!!'"
   ]
  },
  {
   "cell_type": "code",
   "execution_count": 40,
   "id": "e86c7c8b",
   "metadata": {},
   "outputs": [
    {
     "name": "stdout",
     "output_type": "stream",
     "text": [
      "hello world!! \\n        hello world!! \\n    hello world!!\n"
     ]
    }
   ],
   "source": [
    "print(str)"
   ]
  },
  {
   "cell_type": "code",
   "execution_count": 42,
   "id": "2d3e8897",
   "metadata": {},
   "outputs": [],
   "source": [
    "str=\"hello world!!\""
   ]
  },
  {
   "cell_type": "code",
   "execution_count": 43,
   "id": "13a0c9c2",
   "metadata": {},
   "outputs": [
    {
     "name": "stdout",
     "output_type": "stream",
     "text": [
      "hello world!! hello world!!\n"
     ]
    }
   ],
   "source": [
    "print(str +' ' +str)"
   ]
  },
  {
   "cell_type": "code",
   "execution_count": 45,
   "id": "a31ed8b4",
   "metadata": {},
   "outputs": [
    {
     "name": "stdout",
     "output_type": "stream",
     "text": [
      "hello world!!hello world!!hello world!!\n"
     ]
    }
   ],
   "source": [
    "print(str * 3)"
   ]
  },
  {
   "cell_type": "code",
   "execution_count": 46,
   "id": "01c847d9",
   "metadata": {},
   "outputs": [
    {
     "name": "stdout",
     "output_type": "stream",
     "text": [
      "63.4 ns ± 0.292 ns per loop (mean ± std. dev. of 7 runs, 10000000 loops each)\n"
     ]
    }
   ],
   "source": [
    "%timeit str * 2"
   ]
  },
  {
   "cell_type": "markdown",
   "id": "f5842641",
   "metadata": {},
   "source": [
    "functions"
   ]
  },
  {
   "cell_type": "code",
   "execution_count": 47,
   "id": "a079bd0b",
   "metadata": {},
   "outputs": [
    {
     "data": {
      "text/plain": [
       "'hello world!!'"
      ]
     },
     "execution_count": 47,
     "metadata": {},
     "output_type": "execute_result"
    }
   ],
   "source": [
    "str"
   ]
  },
  {
   "cell_type": "code",
   "execution_count": 48,
   "id": "f6362ae2",
   "metadata": {},
   "outputs": [
    {
     "data": {
      "text/plain": [
       "3"
      ]
     },
     "execution_count": 48,
     "metadata": {},
     "output_type": "execute_result"
    }
   ],
   "source": [
    "str.count('l')"
   ]
  },
  {
   "cell_type": "code",
   "execution_count": 50,
   "id": "b9691807",
   "metadata": {},
   "outputs": [
    {
     "data": {
      "text/plain": [
       "-1"
      ]
     },
     "execution_count": 50,
     "metadata": {},
     "output_type": "execute_result"
    }
   ],
   "source": [
    "str.find('j')"
   ]
  },
  {
   "cell_type": "code",
   "execution_count": 54,
   "id": "0985fae1",
   "metadata": {},
   "outputs": [
    {
     "data": {
      "text/plain": [
       "False"
      ]
     },
     "execution_count": 54,
     "metadata": {},
     "output_type": "execute_result"
    }
   ],
   "source": [
    "str.startswith(\"Hell\")"
   ]
  },
  {
   "cell_type": "code",
   "execution_count": 55,
   "id": "6e32ba7e",
   "metadata": {},
   "outputs": [
    {
     "data": {
      "text/plain": [
       "'HELLO WORLD!!'"
      ]
     },
     "execution_count": 55,
     "metadata": {},
     "output_type": "execute_result"
    }
   ],
   "source": [
    "str.upper()"
   ]
  },
  {
   "cell_type": "code",
   "execution_count": 56,
   "id": "35d44c79",
   "metadata": {},
   "outputs": [
    {
     "data": {
      "text/plain": [
       "'hello world!!'"
      ]
     },
     "execution_count": 56,
     "metadata": {},
     "output_type": "execute_result"
    }
   ],
   "source": [
    "str"
   ]
  },
  {
   "cell_type": "code",
   "execution_count": 66,
   "id": "3bcb718a",
   "metadata": {},
   "outputs": [
    {
     "name": "stdout",
     "output_type": "stream",
     "text": [
      "enter number:8888\n"
     ]
    }
   ],
   "source": [
    "num = input(\"enter number:\")"
   ]
  },
  {
   "cell_type": "code",
   "execution_count": 67,
   "id": "3caab264",
   "metadata": {},
   "outputs": [
    {
     "data": {
      "text/plain": [
       "True"
      ]
     },
     "execution_count": 67,
     "metadata": {},
     "output_type": "execute_result"
    }
   ],
   "source": [
    "num.isdigit()"
   ]
  },
  {
   "cell_type": "code",
   "execution_count": 68,
   "id": "dfd305f1",
   "metadata": {},
   "outputs": [
    {
     "name": "stdout",
     "output_type": "stream",
     "text": [
      "4444.0\n"
     ]
    }
   ],
   "source": [
    "print(int(num)/2)"
   ]
  },
  {
   "cell_type": "code",
   "execution_count": 69,
   "id": "ed61bf18",
   "metadata": {},
   "outputs": [
    {
     "data": {
      "text/plain": [
       "'o'"
      ]
     },
     "execution_count": 69,
     "metadata": {},
     "output_type": "execute_result"
    }
   ],
   "source": [
    "str[4]"
   ]
  },
  {
   "cell_type": "code",
   "execution_count": 70,
   "id": "c4fa3006",
   "metadata": {},
   "outputs": [
    {
     "name": "stdout",
     "output_type": "stream",
     "text": [
      "p\n",
      "y\n",
      "t\n",
      "h\n",
      "o\n",
      "n\n"
     ]
    }
   ],
   "source": [
    "for x in \"python\":\n",
    "    print(x)"
   ]
  },
  {
   "cell_type": "code",
   "execution_count": 71,
   "id": "48094595",
   "metadata": {},
   "outputs": [
    {
     "data": {
      "text/plain": [
       "6"
      ]
     },
     "execution_count": 71,
     "metadata": {},
     "output_type": "execute_result"
    }
   ],
   "source": [
    "len(\"python\")"
   ]
  },
  {
   "cell_type": "code",
   "execution_count": 74,
   "id": "2b504378",
   "metadata": {},
   "outputs": [
    {
     "name": "stdout",
     "output_type": "stream",
     "text": [
      "True\n"
     ]
    }
   ],
   "source": [
    "print(\"!\" in str)"
   ]
  },
  {
   "cell_type": "code",
   "execution_count": 75,
   "id": "e7bb987b",
   "metadata": {},
   "outputs": [
    {
     "data": {
      "text/plain": [
       "'hello world!!'"
      ]
     },
     "execution_count": 75,
     "metadata": {},
     "output_type": "execute_result"
    }
   ],
   "source": [
    "str"
   ]
  },
  {
   "cell_type": "code",
   "execution_count": 76,
   "id": "330e59ef",
   "metadata": {},
   "outputs": [
    {
     "data": {
      "text/plain": [
       "'!'"
      ]
     },
     "execution_count": 76,
     "metadata": {},
     "output_type": "execute_result"
    }
   ],
   "source": [
    "str[-1]"
   ]
  },
  {
   "cell_type": "code",
   "execution_count": 77,
   "id": "55513cc1",
   "metadata": {},
   "outputs": [
    {
     "data": {
      "text/plain": [
       "'d'"
      ]
     },
     "execution_count": 77,
     "metadata": {},
     "output_type": "execute_result"
    }
   ],
   "source": [
    "str[-3]"
   ]
  },
  {
   "cell_type": "markdown",
   "id": "d56bef42",
   "metadata": {},
   "source": [
    "## [ start : end : step ]"
   ]
  },
  {
   "cell_type": "code",
   "execution_count": 80,
   "id": "3d3f0034",
   "metadata": {},
   "outputs": [
    {
     "data": {
      "text/plain": [
       "'2345'"
      ]
     },
     "execution_count": 80,
     "metadata": {},
     "output_type": "execute_result"
    }
   ],
   "source": [
    "str[1:5]"
   ]
  },
  {
   "cell_type": "code",
   "execution_count": 79,
   "id": "bb23ff42",
   "metadata": {},
   "outputs": [],
   "source": [
    "str = \"1234567890\""
   ]
  },
  {
   "cell_type": "code",
   "execution_count": 82,
   "id": "22bfdfd5",
   "metadata": {},
   "outputs": [
    {
     "data": {
      "text/plain": [
       "'24680'"
      ]
     },
     "execution_count": 82,
     "metadata": {},
     "output_type": "execute_result"
    }
   ],
   "source": [
    "str[1:10:2]"
   ]
  },
  {
   "cell_type": "code",
   "execution_count": 83,
   "id": "1f0f3fb9",
   "metadata": {},
   "outputs": [
    {
     "data": {
      "text/plain": [
       "'234567890'"
      ]
     },
     "execution_count": 83,
     "metadata": {},
     "output_type": "execute_result"
    }
   ],
   "source": [
    "str[1:len(str)]"
   ]
  },
  {
   "cell_type": "code",
   "execution_count": 88,
   "id": "ed7f4520",
   "metadata": {},
   "outputs": [
    {
     "data": {
      "text/plain": [
       "'098765432'"
      ]
     },
     "execution_count": 88,
     "metadata": {},
     "output_type": "execute_result"
    }
   ],
   "source": [
    "str[len(str):0:-1]"
   ]
  },
  {
   "cell_type": "code",
   "execution_count": 89,
   "id": "aae3047f",
   "metadata": {},
   "outputs": [
    {
     "data": {
      "text/plain": [
       "'0987654321'"
      ]
     },
     "execution_count": 89,
     "metadata": {},
     "output_type": "execute_result"
    }
   ],
   "source": [
    "str[::-1]"
   ]
  },
  {
   "cell_type": "code",
   "execution_count": 90,
   "id": "64030737",
   "metadata": {},
   "outputs": [
    {
     "data": {
      "text/plain": [
       "'12345'"
      ]
     },
     "execution_count": 90,
     "metadata": {},
     "output_type": "execute_result"
    }
   ],
   "source": [
    "str[:5]"
   ]
  },
  {
   "cell_type": "code",
   "execution_count": 91,
   "id": "90da040d",
   "metadata": {},
   "outputs": [
    {
     "data": {
      "text/plain": [
       "'67890'"
      ]
     },
     "execution_count": 91,
     "metadata": {},
     "output_type": "execute_result"
    }
   ],
   "source": [
    "str[5:]"
   ]
  },
  {
   "cell_type": "code",
   "execution_count": 92,
   "id": "f5648116",
   "metadata": {},
   "outputs": [
    {
     "data": {
      "text/plain": [
       "10"
      ]
     },
     "execution_count": 92,
     "metadata": {},
     "output_type": "execute_result"
    }
   ],
   "source": [
    "len(str)"
   ]
  },
  {
   "cell_type": "code",
   "execution_count": 101,
   "id": "c694cc7c",
   "metadata": {},
   "outputs": [],
   "source": [
    "name=\"Tamar\"\n",
    "txt = \" {1}, my name is {1}\""
   ]
  },
  {
   "cell_type": "code",
   "execution_count": 102,
   "id": "dfd41176",
   "metadata": {},
   "outputs": [
    {
     "name": "stdout",
     "output_type": "stream",
     "text": [
      " rivka, my name is rivka\n"
     ]
    }
   ],
   "source": [
    "print(txt.format(name, \"rivka\"))"
   ]
  },
  {
   "cell_type": "code",
   "execution_count": 105,
   "id": "8dc93f28",
   "metadata": {},
   "outputs": [
    {
     "data": {
      "text/plain": [
       "'3'"
      ]
     },
     "execution_count": 105,
     "metadata": {},
     "output_type": "execute_result"
    }
   ],
   "source": [
    "\"{0}\".format(\"3\")"
   ]
  },
  {
   "cell_type": "code",
   "execution_count": 108,
   "id": "1bd3b7d3",
   "metadata": {},
   "outputs": [
    {
     "data": {
      "text/plain": [
       "'3.000000'"
      ]
     },
     "execution_count": 108,
     "metadata": {},
     "output_type": "execute_result"
    }
   ],
   "source": [
    "\"{0:f}\".format(3)"
   ]
  },
  {
   "cell_type": "code",
   "execution_count": 109,
   "id": "e8e7aeb3",
   "metadata": {},
   "outputs": [
    {
     "data": {
      "text/plain": [
       "'3.00'"
      ]
     },
     "execution_count": 109,
     "metadata": {},
     "output_type": "execute_result"
    }
   ],
   "source": [
    "\"{0:.2f}\".format(3)"
   ]
  },
  {
   "cell_type": "markdown",
   "id": "6524707b",
   "metadata": {},
   "source": [
    "## collections"
   ]
  },
  {
   "cell_type": "code",
   "execution_count": 110,
   "id": "309ca820",
   "metadata": {},
   "outputs": [],
   "source": [
    "ls = [1,2,3,4,5]"
   ]
  },
  {
   "cell_type": "code",
   "execution_count": 112,
   "id": "56231562",
   "metadata": {},
   "outputs": [],
   "source": [
    "ls1=[2,3,\"ss\",[1,2]]"
   ]
  },
  {
   "cell_type": "code",
   "execution_count": 126,
   "id": "996b05b4",
   "metadata": {},
   "outputs": [],
   "source": [
    "ls=[10]*50"
   ]
  },
  {
   "cell_type": "code",
   "execution_count": 127,
   "id": "b5ae5c54",
   "metadata": {},
   "outputs": [
    {
     "name": "stdout",
     "output_type": "stream",
     "text": [
      "[10, 10, 10, 10, 10, 10, 10, 10, 10, 10, 10, 10, 10, 10, 10, 10, 10, 10, 10, 10, 10, 10, 10, 10, 10, 10, 10, 10, 10, 10, 10, 10, 10, 10, 10, 10, 10, 10, 10, 10, 10, 10, 10, 10, 10, 10, 10, 10, 10, 10]\n"
     ]
    }
   ],
   "source": [
    "print(ls)"
   ]
  },
  {
   "cell_type": "code",
   "execution_count": 128,
   "id": "3f7de715",
   "metadata": {},
   "outputs": [],
   "source": [
    "ls = [5]*len(ls[1:41:3])"
   ]
  },
  {
   "cell_type": "code",
   "execution_count": 129,
   "id": "cb96aca0",
   "metadata": {},
   "outputs": [
    {
     "data": {
      "text/plain": [
       "[5, 5, 5, 5, 5, 5, 5, 5, 5, 5, 5, 5, 5, 5]"
      ]
     },
     "execution_count": 129,
     "metadata": {},
     "output_type": "execute_result"
    }
   ],
   "source": [
    "ls"
   ]
  },
  {
   "cell_type": "code",
   "execution_count": 130,
   "id": "57a9b8d3",
   "metadata": {},
   "outputs": [
    {
     "data": {
      "text/plain": [
       "14"
      ]
     },
     "execution_count": 130,
     "metadata": {},
     "output_type": "execute_result"
    }
   ],
   "source": [
    "len(ls)"
   ]
  },
  {
   "cell_type": "code",
   "execution_count": 131,
   "id": "f19e9f71",
   "metadata": {},
   "outputs": [],
   "source": [
    "colorList = ['red','black','white','blue']"
   ]
  },
  {
   "cell_type": "code",
   "execution_count": 132,
   "id": "05534018",
   "metadata": {},
   "outputs": [],
   "source": [
    "colorList[2] = 'green'"
   ]
  },
  {
   "cell_type": "code",
   "execution_count": 133,
   "id": "a503f4a4",
   "metadata": {},
   "outputs": [
    {
     "data": {
      "text/plain": [
       "['red', 'black', 'green', 'blue']"
      ]
     },
     "execution_count": 133,
     "metadata": {},
     "output_type": "execute_result"
    }
   ],
   "source": [
    "colorList"
   ]
  },
  {
   "cell_type": "code",
   "execution_count": 173,
   "id": "56fc90df",
   "metadata": {},
   "outputs": [],
   "source": [
    "ls = list(range(10))"
   ]
  },
  {
   "cell_type": "code",
   "execution_count": 174,
   "id": "6da8ad88",
   "metadata": {},
   "outputs": [
    {
     "data": {
      "text/plain": [
       "[0, 1, 2, 3, 4, 5, 6, 7, 8, 9]"
      ]
     },
     "execution_count": 174,
     "metadata": {},
     "output_type": "execute_result"
    }
   ],
   "source": [
    "ls"
   ]
  },
  {
   "cell_type": "code",
   "execution_count": 136,
   "id": "968f776a",
   "metadata": {},
   "outputs": [],
   "source": [
    "ls1 = list(range(1,40,5))"
   ]
  },
  {
   "cell_type": "code",
   "execution_count": 137,
   "id": "69140b45",
   "metadata": {},
   "outputs": [
    {
     "data": {
      "text/plain": [
       "[1, 6, 11, 16, 21, 26, 31, 36]"
      ]
     },
     "execution_count": 137,
     "metadata": {},
     "output_type": "execute_result"
    }
   ],
   "source": [
    "ls1"
   ]
  },
  {
   "cell_type": "code",
   "execution_count": 144,
   "id": "de2b03ff",
   "metadata": {},
   "outputs": [],
   "source": [
    "ls.append(2)"
   ]
  },
  {
   "cell_type": "code",
   "execution_count": 145,
   "id": "e8f43775",
   "metadata": {},
   "outputs": [
    {
     "data": {
      "text/plain": [
       "[0, 1, 5, 2, 3, 4, 5, 6, 7, 8, 9, '2', 2]"
      ]
     },
     "execution_count": 145,
     "metadata": {},
     "output_type": "execute_result"
    }
   ],
   "source": [
    "ls"
   ]
  },
  {
   "cell_type": "code",
   "execution_count": 141,
   "id": "3bc6a740",
   "metadata": {},
   "outputs": [],
   "source": [
    "ls.insert(2,5)"
   ]
  },
  {
   "cell_type": "code",
   "execution_count": 143,
   "id": "caed14c8",
   "metadata": {},
   "outputs": [
    {
     "data": {
      "text/plain": [
       "[0, 1, 5, 2, 3, 4, 5, 6, 7, 8, 9, '2']"
      ]
     },
     "execution_count": 143,
     "metadata": {},
     "output_type": "execute_result"
    }
   ],
   "source": [
    "ls"
   ]
  },
  {
   "cell_type": "code",
   "execution_count": 146,
   "id": "a1bb573a",
   "metadata": {},
   "outputs": [],
   "source": [
    "ls[3:3]=[4]"
   ]
  },
  {
   "cell_type": "code",
   "execution_count": 147,
   "id": "dccb890e",
   "metadata": {},
   "outputs": [
    {
     "data": {
      "text/plain": [
       "[0, 1, 5, 4, 2, 3, 4, 5, 6, 7, 8, 9, '2', 2]"
      ]
     },
     "execution_count": 147,
     "metadata": {},
     "output_type": "execute_result"
    }
   ],
   "source": [
    "ls"
   ]
  },
  {
   "cell_type": "code",
   "execution_count": 148,
   "id": "fb010591",
   "metadata": {},
   "outputs": [],
   "source": [
    "ls[-2]=[]"
   ]
  },
  {
   "cell_type": "code",
   "execution_count": 149,
   "id": "1f510633",
   "metadata": {},
   "outputs": [
    {
     "data": {
      "text/plain": [
       "[0, 1, 5, 4, 2, 3, 4, 5, 6, 7, 8, 9, [], 2]"
      ]
     },
     "execution_count": 149,
     "metadata": {},
     "output_type": "execute_result"
    }
   ],
   "source": [
    "ls"
   ]
  },
  {
   "cell_type": "code",
   "execution_count": 151,
   "id": "5b2df557",
   "metadata": {},
   "outputs": [],
   "source": [
    "ls[6:9]=[3]"
   ]
  },
  {
   "cell_type": "code",
   "execution_count": 152,
   "id": "5989de22",
   "metadata": {},
   "outputs": [
    {
     "data": {
      "text/plain": [
       "[0, 1, 5, 4, 2, 3, 3, 7, 8, 9, [], 2]"
      ]
     },
     "execution_count": 152,
     "metadata": {},
     "output_type": "execute_result"
    }
   ],
   "source": [
    "ls"
   ]
  },
  {
   "cell_type": "code",
   "execution_count": 175,
   "id": "2684aeb9",
   "metadata": {},
   "outputs": [],
   "source": [
    "ls[7:]=[\"hello\"]"
   ]
  },
  {
   "cell_type": "code",
   "execution_count": 176,
   "id": "90e96871",
   "metadata": {},
   "outputs": [
    {
     "data": {
      "text/plain": [
       "[0, 1, 2, 3, 4, 5, 6, 'hello']"
      ]
     },
     "execution_count": 176,
     "metadata": {},
     "output_type": "execute_result"
    }
   ],
   "source": [
    "ls"
   ]
  },
  {
   "cell_type": "code",
   "execution_count": 177,
   "id": "26b143e7",
   "metadata": {},
   "outputs": [],
   "source": [
    "ls[1:5:2] = [\"world\"]*len(ls[1:5:2])"
   ]
  },
  {
   "cell_type": "code",
   "execution_count": 180,
   "id": "a82dd166",
   "metadata": {},
   "outputs": [
    {
     "data": {
      "text/plain": [
       "[0, 'world', 2, 'world', 4, 5, 6, 'hello']"
      ]
     },
     "execution_count": 180,
     "metadata": {},
     "output_type": "execute_result"
    }
   ],
   "source": [
    "ls"
   ]
  },
  {
   "cell_type": "code",
   "execution_count": 181,
   "id": "7958e92f",
   "metadata": {},
   "outputs": [
    {
     "data": {
      "text/plain": [
       "['world', 2, 'world']"
      ]
     },
     "execution_count": 181,
     "metadata": {},
     "output_type": "execute_result"
    }
   ],
   "source": [
    "ls[1:4]"
   ]
  },
  {
   "cell_type": "code",
   "execution_count": 182,
   "id": "801ef86a",
   "metadata": {},
   "outputs": [],
   "source": [
    "ls[1:4] = [2]"
   ]
  },
  {
   "cell_type": "code",
   "execution_count": 183,
   "id": "f1ba62a9",
   "metadata": {},
   "outputs": [
    {
     "data": {
      "text/plain": [
       "[0, 2, 4, 5, 6, 'hello']"
      ]
     },
     "execution_count": 183,
     "metadata": {},
     "output_type": "execute_result"
    }
   ],
   "source": [
    "ls"
   ]
  },
  {
   "cell_type": "code",
   "execution_count": 169,
   "id": "cc9edc0d",
   "metadata": {},
   "outputs": [],
   "source": [
    "ls.remove(4)"
   ]
  },
  {
   "cell_type": "code",
   "execution_count": 170,
   "id": "c09c0747",
   "metadata": {},
   "outputs": [
    {
     "data": {
      "text/plain": [
       "[0, 4, 2, 3, 3]"
      ]
     },
     "execution_count": 170,
     "metadata": {},
     "output_type": "execute_result"
    }
   ],
   "source": [
    "ls"
   ]
  },
  {
   "cell_type": "code",
   "execution_count": 165,
   "id": "6d52be7b",
   "metadata": {},
   "outputs": [
    {
     "data": {
      "text/plain": [
       "'hello'"
      ]
     },
     "execution_count": 165,
     "metadata": {},
     "output_type": "execute_result"
    }
   ],
   "source": [
    "ls.pop()"
   ]
  },
  {
   "cell_type": "code",
   "execution_count": 184,
   "id": "aa69d177",
   "metadata": {},
   "outputs": [
    {
     "data": {
      "text/plain": [
       "[0, 2, 4, 5, 6, 'hello']"
      ]
     },
     "execution_count": 184,
     "metadata": {},
     "output_type": "execute_result"
    }
   ],
   "source": [
    "ls"
   ]
  },
  {
   "cell_type": "code",
   "execution_count": 195,
   "id": "10073642",
   "metadata": {},
   "outputs": [],
   "source": [
    "del ls[5]"
   ]
  },
  {
   "cell_type": "code",
   "execution_count": 196,
   "id": "4316d384",
   "metadata": {},
   "outputs": [
    {
     "data": {
      "text/plain": [
       "[0, 1, 2, 3, 4, 6, 7, 8, 9]"
      ]
     },
     "execution_count": 196,
     "metadata": {},
     "output_type": "execute_result"
    }
   ],
   "source": [
    "ls"
   ]
  },
  {
   "cell_type": "code",
   "execution_count": 189,
   "id": "7947b4ad",
   "metadata": {},
   "outputs": [],
   "source": [
    "ls.clear()"
   ]
  },
  {
   "cell_type": "code",
   "execution_count": 190,
   "id": "eb1265e0",
   "metadata": {},
   "outputs": [
    {
     "data": {
      "text/plain": [
       "[]"
      ]
     },
     "execution_count": 190,
     "metadata": {},
     "output_type": "execute_result"
    }
   ],
   "source": [
    "ls"
   ]
  },
  {
   "cell_type": "code",
   "execution_count": 191,
   "id": "a38974f8",
   "metadata": {},
   "outputs": [],
   "source": [
    "del ls"
   ]
  },
  {
   "cell_type": "code",
   "execution_count": 197,
   "id": "960a4b32",
   "metadata": {},
   "outputs": [],
   "source": [
    "ls = list(range(10))"
   ]
  },
  {
   "cell_type": "code",
   "execution_count": 204,
   "id": "69f40404",
   "metadata": {},
   "outputs": [
    {
     "data": {
      "text/plain": [
       "[0, 1, 2, 3, 4, 5, 6, 7, 8, 9]"
      ]
     },
     "execution_count": 204,
     "metadata": {},
     "output_type": "execute_result"
    }
   ],
   "source": [
    "ls"
   ]
  },
  {
   "cell_type": "code",
   "execution_count": 205,
   "id": "1b7c8f89",
   "metadata": {},
   "outputs": [],
   "source": [
    "ls=[\"a\",\"b\",\"c\"]"
   ]
  },
  {
   "cell_type": "code",
   "execution_count": 208,
   "id": "a49b4521",
   "metadata": {},
   "outputs": [],
   "source": [
    "str = \"-\".join(ls)"
   ]
  },
  {
   "cell_type": "code",
   "execution_count": 209,
   "id": "3c4bfa72",
   "metadata": {},
   "outputs": [
    {
     "data": {
      "text/plain": [
       "['a', 'b', 'c']"
      ]
     },
     "execution_count": 209,
     "metadata": {},
     "output_type": "execute_result"
    }
   ],
   "source": [
    "str.split(\"-\")"
   ]
  },
  {
   "cell_type": "code",
   "execution_count": 210,
   "id": "9a130bab",
   "metadata": {},
   "outputs": [
    {
     "data": {
      "text/plain": [
       "['a', 'b', 'c']"
      ]
     },
     "execution_count": 210,
     "metadata": {},
     "output_type": "execute_result"
    }
   ],
   "source": [
    "ls"
   ]
  },
  {
   "cell_type": "code",
   "execution_count": 211,
   "id": "6381bb6d",
   "metadata": {},
   "outputs": [],
   "source": [
    "ls1 = list(range(5))"
   ]
  },
  {
   "cell_type": "code",
   "execution_count": 212,
   "id": "6004183c",
   "metadata": {},
   "outputs": [
    {
     "data": {
      "text/plain": [
       "['a', 'b', 'c', 0, 1, 2, 3, 4]"
      ]
     },
     "execution_count": 212,
     "metadata": {},
     "output_type": "execute_result"
    }
   ],
   "source": [
    "ls+ls1"
   ]
  },
  {
   "cell_type": "code",
   "execution_count": 213,
   "id": "e51354b3",
   "metadata": {},
   "outputs": [],
   "source": [
    "ls.extend(ls1)"
   ]
  },
  {
   "cell_type": "code",
   "execution_count": 214,
   "id": "34e84df8",
   "metadata": {},
   "outputs": [
    {
     "data": {
      "text/plain": [
       "['a', 'b', 'c', 0, 1, 2, 3, 4]"
      ]
     },
     "execution_count": 214,
     "metadata": {},
     "output_type": "execute_result"
    }
   ],
   "source": [
    "ls"
   ]
  },
  {
   "cell_type": "markdown",
   "id": "70a5925b",
   "metadata": {},
   "source": [
    "## tuple"
   ]
  },
  {
   "cell_type": "code",
   "execution_count": 215,
   "id": "15f444c0",
   "metadata": {},
   "outputs": [],
   "source": [
    "t=(1,2,3,4)"
   ]
  },
  {
   "cell_type": "code",
   "execution_count": 216,
   "id": "3ed7191e",
   "metadata": {},
   "outputs": [
    {
     "data": {
      "text/plain": [
       "(1, 2, 3, 4)"
      ]
     },
     "execution_count": 216,
     "metadata": {},
     "output_type": "execute_result"
    }
   ],
   "source": [
    "t"
   ]
  },
  {
   "cell_type": "code",
   "execution_count": 218,
   "id": "772180c2",
   "metadata": {},
   "outputs": [],
   "source": [
    "t1=4,5,6,6"
   ]
  },
  {
   "cell_type": "code",
   "execution_count": 219,
   "id": "f897fc28",
   "metadata": {},
   "outputs": [
    {
     "data": {
      "text/plain": [
       "(4, 5, 6, 6)"
      ]
     },
     "execution_count": 219,
     "metadata": {},
     "output_type": "execute_result"
    }
   ],
   "source": [
    "t1"
   ]
  },
  {
   "cell_type": "code",
   "execution_count": 223,
   "id": "d8ac2094",
   "metadata": {},
   "outputs": [],
   "source": [
    "t=(20,)"
   ]
  },
  {
   "cell_type": "code",
   "execution_count": 224,
   "id": "5100be25",
   "metadata": {},
   "outputs": [
    {
     "data": {
      "text/plain": [
       "tuple"
      ]
     },
     "execution_count": 224,
     "metadata": {},
     "output_type": "execute_result"
    }
   ],
   "source": [
    "type(t)"
   ]
  },
  {
   "cell_type": "code",
   "execution_count": 225,
   "id": "05748d00",
   "metadata": {},
   "outputs": [
    {
     "data": {
      "text/plain": [
       "(20,)"
      ]
     },
     "execution_count": 225,
     "metadata": {},
     "output_type": "execute_result"
    }
   ],
   "source": [
    "t"
   ]
  },
  {
   "cell_type": "code",
   "execution_count": 227,
   "id": "19c579ac",
   "metadata": {},
   "outputs": [],
   "source": [
    "def sum(a,b):\n",
    "    print(a+b)"
   ]
  },
  {
   "cell_type": "code",
   "execution_count": 228,
   "id": "b5833ef6",
   "metadata": {},
   "outputs": [
    {
     "name": "stdout",
     "output_type": "stream",
     "text": [
      "5\n"
     ]
    }
   ],
   "source": [
    "sum(2,3)"
   ]
  },
  {
   "cell_type": "code",
   "execution_count": 229,
   "id": "7b2f5db6",
   "metadata": {},
   "outputs": [],
   "source": [
    "def switchArgs(a,b):\n",
    "    return b,a"
   ]
  },
  {
   "cell_type": "code",
   "execution_count": 232,
   "id": "0d0c36fd",
   "metadata": {},
   "outputs": [],
   "source": [
    "t=3,4"
   ]
  },
  {
   "cell_type": "code",
   "execution_count": 233,
   "id": "c2a9bcbe",
   "metadata": {},
   "outputs": [
    {
     "data": {
      "text/plain": [
       "(3, 4)"
      ]
     },
     "execution_count": 233,
     "metadata": {},
     "output_type": "execute_result"
    }
   ],
   "source": [
    "t"
   ]
  },
  {
   "cell_type": "code",
   "execution_count": 234,
   "id": "414ba157",
   "metadata": {},
   "outputs": [],
   "source": [
    "t = switchArgs(3,4)"
   ]
  },
  {
   "cell_type": "code",
   "execution_count": 235,
   "id": "e9e6aa10",
   "metadata": {},
   "outputs": [
    {
     "data": {
      "text/plain": [
       "(4, 3)"
      ]
     },
     "execution_count": 235,
     "metadata": {},
     "output_type": "execute_result"
    }
   ],
   "source": [
    "t"
   ]
  },
  {
   "cell_type": "code",
   "execution_count": 236,
   "id": "1df4efa8",
   "metadata": {},
   "outputs": [],
   "source": [
    "t+=(10,)"
   ]
  },
  {
   "cell_type": "code",
   "execution_count": 237,
   "id": "0dd700b6",
   "metadata": {},
   "outputs": [
    {
     "data": {
      "text/plain": [
       "(4, 3, 10)"
      ]
     },
     "execution_count": 237,
     "metadata": {},
     "output_type": "execute_result"
    }
   ],
   "source": [
    "t"
   ]
  },
  {
   "cell_type": "code",
   "execution_count": 240,
   "id": "e6a8098e",
   "metadata": {},
   "outputs": [],
   "source": [
    "a1,a2,a3 = t"
   ]
  },
  {
   "cell_type": "code",
   "execution_count": 242,
   "id": "d6170837",
   "metadata": {},
   "outputs": [],
   "source": [
    "a=1"
   ]
  },
  {
   "cell_type": "code",
   "execution_count": 243,
   "id": "1def90fc",
   "metadata": {},
   "outputs": [],
   "source": [
    "b=2"
   ]
  },
  {
   "cell_type": "code",
   "execution_count": 244,
   "id": "04fe6bfc",
   "metadata": {},
   "outputs": [],
   "source": [
    "a,b = b,a"
   ]
  },
  {
   "cell_type": "code",
   "execution_count": 246,
   "id": "38f62a59",
   "metadata": {},
   "outputs": [
    {
     "data": {
      "text/plain": [
       "2"
      ]
     },
     "execution_count": 246,
     "metadata": {},
     "output_type": "execute_result"
    }
   ],
   "source": [
    "a"
   ]
  },
  {
   "cell_type": "markdown",
   "id": "bbbffc8b",
   "metadata": {},
   "source": [
    "## set"
   ]
  },
  {
   "cell_type": "code",
   "execution_count": 248,
   "id": "66653b57",
   "metadata": {},
   "outputs": [
    {
     "data": {
      "text/plain": [
       "['a', 'b', 'c', 0, 1, 2, 3, 4]"
      ]
     },
     "execution_count": 248,
     "metadata": {},
     "output_type": "execute_result"
    }
   ],
   "source": [
    "ls"
   ]
  },
  {
   "cell_type": "code",
   "execution_count": 253,
   "id": "ca5de6dc",
   "metadata": {},
   "outputs": [],
   "source": [
    "ls = ls+ls"
   ]
  },
  {
   "cell_type": "code",
   "execution_count": 255,
   "id": "1c2ad13a",
   "metadata": {},
   "outputs": [
    {
     "name": "stdout",
     "output_type": "stream",
     "text": [
      "['a', 'b', 'c', 0, 1, 2, 3, 4, 'a', 'b', 'c', 0, 1, 2, 3, 4, 'a', 'b', 'c', 0, 1, 2, 3, 4, 'a', 'b', 'c', 0, 1, 2, 3, 4]\n"
     ]
    }
   ],
   "source": [
    "print(ls)"
   ]
  },
  {
   "cell_type": "code",
   "execution_count": 251,
   "id": "34facd59",
   "metadata": {},
   "outputs": [],
   "source": [
    "s=set(ls)"
   ]
  },
  {
   "cell_type": "code",
   "execution_count": 252,
   "id": "b732cb2e",
   "metadata": {},
   "outputs": [
    {
     "data": {
      "text/plain": [
       "{0, 1, 2, 3, 4, 'a', 'b', 'c'}"
      ]
     },
     "execution_count": 252,
     "metadata": {},
     "output_type": "execute_result"
    }
   ],
   "source": [
    "s"
   ]
  },
  {
   "cell_type": "code",
   "execution_count": 256,
   "id": "9e227fd2",
   "metadata": {},
   "outputs": [],
   "source": [
    "ls=list(set(ls))"
   ]
  },
  {
   "cell_type": "code",
   "execution_count": 257,
   "id": "b651b801",
   "metadata": {},
   "outputs": [
    {
     "data": {
      "text/plain": [
       "[0, 'a', 1, 2, 3, 4, 'c', 'b']"
      ]
     },
     "execution_count": 257,
     "metadata": {},
     "output_type": "execute_result"
    }
   ],
   "source": [
    "ls"
   ]
  },
  {
   "cell_type": "code",
   "execution_count": 258,
   "id": "10483e00",
   "metadata": {},
   "outputs": [],
   "source": [
    "s1={1,2,3,4,5,4,3,2}"
   ]
  },
  {
   "cell_type": "code",
   "execution_count": 259,
   "id": "630ccf45",
   "metadata": {},
   "outputs": [
    {
     "data": {
      "text/plain": [
       "{1, 2, 3, 4, 5}"
      ]
     },
     "execution_count": 259,
     "metadata": {},
     "output_type": "execute_result"
    }
   ],
   "source": [
    "s1"
   ]
  },
  {
   "cell_type": "code",
   "execution_count": 260,
   "id": "a67edfb1",
   "metadata": {},
   "outputs": [
    {
     "data": {
      "text/plain": [
       "{0, 1, 2, 3, 4, 'a', 'b', 'c'}"
      ]
     },
     "execution_count": 260,
     "metadata": {},
     "output_type": "execute_result"
    }
   ],
   "source": [
    "s"
   ]
  },
  {
   "cell_type": "code",
   "execution_count": 261,
   "id": "f99f65e0",
   "metadata": {},
   "outputs": [
    {
     "data": {
      "text/plain": [
       "{1, 2, 3, 4}"
      ]
     },
     "execution_count": 261,
     "metadata": {},
     "output_type": "execute_result"
    }
   ],
   "source": [
    "s & s1"
   ]
  },
  {
   "cell_type": "code",
   "execution_count": 268,
   "id": "53f0379d",
   "metadata": {},
   "outputs": [],
   "source": [
    "s2 = s1.union(s)\n",
    "#s|s1"
   ]
  },
  {
   "cell_type": "code",
   "execution_count": 269,
   "id": "097679b2",
   "metadata": {},
   "outputs": [
    {
     "data": {
      "text/plain": [
       "{0, 1, 2, 3, 4, 5, 'a', 'b', 'c'}"
      ]
     },
     "execution_count": 269,
     "metadata": {},
     "output_type": "execute_result"
    }
   ],
   "source": [
    "s2"
   ]
  },
  {
   "cell_type": "code",
   "execution_count": 273,
   "id": "a763f72b",
   "metadata": {},
   "outputs": [
    {
     "data": {
      "text/plain": [
       "{0, 'a', 'b', 'c'}"
      ]
     },
     "execution_count": 273,
     "metadata": {},
     "output_type": "execute_result"
    }
   ],
   "source": [
    "s - s1"
   ]
  },
  {
   "cell_type": "code",
   "execution_count": 272,
   "id": "02d82844",
   "metadata": {},
   "outputs": [
    {
     "data": {
      "text/plain": [
       "{0, 5, 'a', 'b', 'c'}"
      ]
     },
     "execution_count": 272,
     "metadata": {},
     "output_type": "execute_result"
    }
   ],
   "source": [
    "s ^ s1"
   ]
  },
  {
   "cell_type": "code",
   "execution_count": 275,
   "id": "efe4184a",
   "metadata": {},
   "outputs": [
    {
     "ename": "TypeError",
     "evalue": "'set' object does not support item assignment",
     "output_type": "error",
     "traceback": [
      "\u001b[1;31m---------------------------------------------------------------------------\u001b[0m",
      "\u001b[1;31mTypeError\u001b[0m                                 Traceback (most recent call last)",
      "\u001b[1;32mC:\\Users\\DD43~1\\AppData\\Local\\Temp/ipykernel_10736/3802913994.py\u001b[0m in \u001b[0;36m<module>\u001b[1;34m\u001b[0m\n\u001b[1;32m----> 1\u001b[1;33m \u001b[0ms\u001b[0m\u001b[1;33m[\u001b[0m\u001b[1;36m3\u001b[0m\u001b[1;33m]\u001b[0m \u001b[1;33m=\u001b[0m \u001b[1;36m3\u001b[0m\u001b[1;33m\u001b[0m\u001b[1;33m\u001b[0m\u001b[0m\n\u001b[0m",
      "\u001b[1;31mTypeError\u001b[0m: 'set' object does not support item assignment"
     ]
    }
   ],
   "source": [
    "s[3] = 3"
   ]
  },
  {
   "cell_type": "markdown",
   "id": "5cccad56",
   "metadata": {},
   "source": [
    "## dictionary"
   ]
  },
  {
   "cell_type": "code",
   "execution_count": 274,
   "id": "16708efe",
   "metadata": {},
   "outputs": [],
   "source": [
    "d= {\"a\":1, \"b\":2}"
   ]
  },
  {
   "cell_type": "code",
   "execution_count": 276,
   "id": "c0b627a7",
   "metadata": {},
   "outputs": [
    {
     "data": {
      "text/plain": [
       "1"
      ]
     },
     "execution_count": 276,
     "metadata": {},
     "output_type": "execute_result"
    }
   ],
   "source": [
    "d[\"a\"]"
   ]
  },
  {
   "cell_type": "code",
   "execution_count": 277,
   "id": "116a3f4e",
   "metadata": {},
   "outputs": [
    {
     "data": {
      "text/plain": [
       "1"
      ]
     },
     "execution_count": 277,
     "metadata": {},
     "output_type": "execute_result"
    }
   ],
   "source": [
    "d.get(\"a\")"
   ]
  },
  {
   "cell_type": "code",
   "execution_count": 278,
   "id": "28b3dd29",
   "metadata": {},
   "outputs": [],
   "source": [
    "d.update({\"c\":3})"
   ]
  },
  {
   "cell_type": "code",
   "execution_count": 279,
   "id": "d2f30625",
   "metadata": {},
   "outputs": [
    {
     "data": {
      "text/plain": [
       "{'a': 1, 'b': 2, 'c': 3}"
      ]
     },
     "execution_count": 279,
     "metadata": {},
     "output_type": "execute_result"
    }
   ],
   "source": [
    "d"
   ]
  },
  {
   "cell_type": "code",
   "execution_count": 280,
   "id": "c8644397",
   "metadata": {},
   "outputs": [],
   "source": [
    "d.update({\"c\":5})"
   ]
  },
  {
   "cell_type": "code",
   "execution_count": 281,
   "id": "3fca262e",
   "metadata": {},
   "outputs": [
    {
     "data": {
      "text/plain": [
       "{'a': 1, 'b': 2, 'c': 5}"
      ]
     },
     "execution_count": 281,
     "metadata": {},
     "output_type": "execute_result"
    }
   ],
   "source": [
    "d"
   ]
  },
  {
   "cell_type": "code",
   "execution_count": 282,
   "id": "7c911d24",
   "metadata": {},
   "outputs": [
    {
     "data": {
      "text/plain": [
       "dict_items([('a', 1), ('b', 2), ('c', 5)])"
      ]
     },
     "execution_count": 282,
     "metadata": {},
     "output_type": "execute_result"
    }
   ],
   "source": [
    "d.items()"
   ]
  },
  {
   "cell_type": "code",
   "execution_count": 283,
   "id": "68393b5e",
   "metadata": {},
   "outputs": [
    {
     "data": {
      "text/plain": [
       "['a', 'b', 'c']"
      ]
     },
     "execution_count": 283,
     "metadata": {},
     "output_type": "execute_result"
    }
   ],
   "source": [
    "list(d.keys())"
   ]
  },
  {
   "cell_type": "code",
   "execution_count": 284,
   "id": "63afef71",
   "metadata": {},
   "outputs": [],
   "source": [
    "d.update({(2,3):[3,4,5]})"
   ]
  },
  {
   "cell_type": "code",
   "execution_count": 285,
   "id": "2612ff74",
   "metadata": {},
   "outputs": [
    {
     "data": {
      "text/plain": [
       "{'a': 1, 'b': 2, 'c': 5, (2, 3): [3, 4, 5]}"
      ]
     },
     "execution_count": 285,
     "metadata": {},
     "output_type": "execute_result"
    }
   ],
   "source": [
    "d"
   ]
  },
  {
   "cell_type": "code",
   "execution_count": 286,
   "id": "33fcc4ec",
   "metadata": {},
   "outputs": [],
   "source": [
    "d.update({\"d\":(1,2,3,4,5)})"
   ]
  },
  {
   "cell_type": "code",
   "execution_count": 287,
   "id": "04332eaf",
   "metadata": {},
   "outputs": [
    {
     "data": {
      "text/plain": [
       "{'a': 1, 'b': 2, 'c': 5, (2, 3): [3, 4, 5], 'd': (1, 2, 3, 4, 5)}"
      ]
     },
     "execution_count": 287,
     "metadata": {},
     "output_type": "execute_result"
    }
   ],
   "source": [
    "d"
   ]
  },
  {
   "cell_type": "code",
   "execution_count": 288,
   "id": "55775da6",
   "metadata": {},
   "outputs": [],
   "source": [
    "d2 = d"
   ]
  },
  {
   "cell_type": "code",
   "execution_count": 294,
   "id": "acc6ff47",
   "metadata": {},
   "outputs": [
    {
     "data": {
      "text/plain": [
       "{'b': 2, 'c': 5, (2, 3): [3, 4, 5], 'd': (1, 2, 3, 4, 5)}"
      ]
     },
     "execution_count": 294,
     "metadata": {},
     "output_type": "execute_result"
    }
   ],
   "source": [
    "d2"
   ]
  },
  {
   "cell_type": "code",
   "execution_count": 299,
   "id": "d5ba3d65",
   "metadata": {},
   "outputs": [
    {
     "data": {
      "text/plain": [
       "{'c': 5, (2, 3): [3, 4, 5], 'd': (1, 2, 3, 4, 5)}"
      ]
     },
     "execution_count": 299,
     "metadata": {},
     "output_type": "execute_result"
    }
   ],
   "source": [
    "d"
   ]
  },
  {
   "cell_type": "code",
   "execution_count": 298,
   "id": "d84003fe",
   "metadata": {},
   "outputs": [
    {
     "data": {
      "text/plain": [
       "2"
      ]
     },
     "execution_count": 298,
     "metadata": {},
     "output_type": "execute_result"
    }
   ],
   "source": [
    "d.pop(\"b\")"
   ]
  },
  {
   "cell_type": "code",
   "execution_count": 296,
   "id": "e2b6c4c0",
   "metadata": {},
   "outputs": [],
   "source": [
    "d2 = dict(d)"
   ]
  },
  {
   "cell_type": "code",
   "execution_count": 300,
   "id": "6b2e7f65",
   "metadata": {},
   "outputs": [
    {
     "data": {
      "text/plain": [
       "{'b': 2, 'c': 5, (2, 3): [3, 4, 5], 'd': (1, 2, 3, 4, 5)}"
      ]
     },
     "execution_count": 300,
     "metadata": {},
     "output_type": "execute_result"
    }
   ],
   "source": [
    "d2"
   ]
  },
  {
   "cell_type": "markdown",
   "id": "2077e360",
   "metadata": {},
   "source": [
    "## if"
   ]
  },
  {
   "cell_type": "code",
   "execution_count": 304,
   "id": "7defed04",
   "metadata": {},
   "outputs": [],
   "source": [
    "if x>10:\n",
    "    print(\"10\")\n",
    "elif x>5:\n",
    "    print(\"5\")"
   ]
  },
  {
   "cell_type": "code",
   "execution_count": 311,
   "id": "79e2dea3",
   "metadata": {},
   "outputs": [],
   "source": [
    "if not 10 >5 and not 5>2:\n",
    "    print(\"5\")"
   ]
  },
  {
   "cell_type": "code",
   "execution_count": 307,
   "id": "a971a8f4",
   "metadata": {},
   "outputs": [
    {
     "name": "stdout",
     "output_type": "stream",
     "text": [
      "no\n"
     ]
    }
   ],
   "source": [
    "if(\"x\" not in \"python\"):\n",
    "    print(\"no\")"
   ]
  },
  {
   "cell_type": "code",
   "execution_count": 313,
   "id": "dfec2d60",
   "metadata": {},
   "outputs": [
    {
     "name": "stdout",
     "output_type": "stream",
     "text": [
      "A\n"
     ]
    }
   ],
   "source": [
    "print(\"A\") if a>b else print(\"C\") if a==b else print(\"B\")"
   ]
  },
  {
   "cell_type": "code",
   "execution_count": 315,
   "id": "4124054f",
   "metadata": {},
   "outputs": [],
   "source": [
    "if 3>1:\n",
    "    pass"
   ]
  },
  {
   "cell_type": "code",
   "execution_count": null,
   "id": "0980872b",
   "metadata": {},
   "outputs": [],
   "source": []
  }
 ],
 "metadata": {
  "kernelspec": {
   "display_name": "Python 3 (ipykernel)",
   "language": "python",
   "name": "python3"
  },
  "language_info": {
   "codemirror_mode": {
    "name": "ipython",
    "version": 3
   },
   "file_extension": ".py",
   "mimetype": "text/x-python",
   "name": "python",
   "nbconvert_exporter": "python",
   "pygments_lexer": "ipython3",
   "version": "3.9.7"
  }
 },
 "nbformat": 4,
 "nbformat_minor": 5
}
