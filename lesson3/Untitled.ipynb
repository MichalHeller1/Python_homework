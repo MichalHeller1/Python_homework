{
 "cells": [
  {
   "cell_type": "code",
   "execution_count": 1,
   "id": "58542c6c",
   "metadata": {},
   "outputs": [],
   "source": [
    "str=\"hello\""
   ]
  },
  {
   "cell_type": "code",
   "execution_count": 2,
   "id": "7582d44a",
   "metadata": {},
   "outputs": [
    {
     "name": "stdout",
     "output_type": "stream",
     "text": [
      "h\n",
      "e\n",
      "l\n",
      "l\n",
      "o\n"
     ]
    }
   ],
   "source": [
    "for i in str:\n",
    "    print(i)"
   ]
  },
  {
   "cell_type": "code",
   "execution_count": 4,
   "id": "5adff373",
   "metadata": {},
   "outputs": [
    {
     "name": "stdout",
     "output_type": "stream",
     "text": [
      "1\n",
      "3\n",
      "5\n",
      "7\n",
      "9\n",
      "11\n",
      "13\n",
      "15\n",
      "17\n",
      "19\n"
     ]
    }
   ],
   "source": [
    "for i in range(1,20,2):\n",
    "    print(i)"
   ]
  },
  {
   "cell_type": "code",
   "execution_count": 5,
   "id": "59d30087",
   "metadata": {},
   "outputs": [],
   "source": [
    "ls=['Red', 'Green', 'White', 'Black', 'Pink', 'Yellow']"
   ]
  },
  {
   "cell_type": "code",
   "execution_count": 6,
   "id": "faf52855",
   "metadata": {},
   "outputs": [],
   "source": [
    "en=enumerate(ls)"
   ]
  },
  {
   "cell_type": "code",
   "execution_count": 8,
   "id": "93754e3f",
   "metadata": {},
   "outputs": [
    {
     "data": {
      "text/plain": [
       "[(0, 'Red'),\n",
       " (1, 'Green'),\n",
       " (2, 'White'),\n",
       " (3, 'Black'),\n",
       " (4, 'Pink'),\n",
       " (5, 'Yellow')]"
      ]
     },
     "execution_count": 8,
     "metadata": {},
     "output_type": "execute_result"
    }
   ],
   "source": [
    "list(en)"
   ]
  },
  {
   "cell_type": "code",
   "execution_count": 9,
   "id": "31734808",
   "metadata": {},
   "outputs": [
    {
     "name": "stdout",
     "output_type": "stream",
     "text": [
      "0 Red\n",
      "1 Green\n",
      "2 White\n",
      "3 Black\n",
      "4 Pink\n",
      "5 Yellow\n"
     ]
    }
   ],
   "source": [
    "for (i,x) in enumerate(ls):\n",
    "    print(i,x)\n",
    "                    "
   ]
  },
  {
   "cell_type": "code",
   "execution_count": null,
   "id": "48ee17ae",
   "metadata": {},
   "outputs": [],
   "source": []
  },
  {
   "cell_type": "code",
   "execution_count": null,
   "id": "12ca0553",
   "metadata": {},
   "outputs": [],
   "source": []
  },
  {
   "cell_type": "code",
   "execution_count": 12,
   "id": "050b665d",
   "metadata": {},
   "outputs": [],
   "source": [
    "dict={\"math\":56, \"english\":61, \"science\":73}"
   ]
  },
  {
   "cell_type": "code",
   "execution_count": 13,
   "id": "159a5deb",
   "metadata": {},
   "outputs": [
    {
     "data": {
      "text/plain": [
       "{'math': 56, 'english': 61, 'science': 73}"
      ]
     },
     "execution_count": 13,
     "metadata": {},
     "output_type": "execute_result"
    }
   ],
   "source": [
    "dict"
   ]
  },
  {
   "cell_type": "code",
   "execution_count": 15,
   "id": "2f23f17e",
   "metadata": {},
   "outputs": [
    {
     "name": "stdout",
     "output_type": "stream",
     "text": [
      "math 56\n",
      "english 61\n",
      "science 73\n"
     ]
    }
   ],
   "source": [
    "for i in dict:\n",
    "    print(i,dict[i])"
   ]
  },
  {
   "cell_type": "code",
   "execution_count": null,
   "id": "303d7dee",
   "metadata": {},
   "outputs": [],
   "source": []
  }
 ],
 "metadata": {
  "kernelspec": {
   "display_name": "Python 3 (ipykernel)",
   "language": "python",
   "name": "python3"
  },
  "language_info": {
   "codemirror_mode": {
    "name": "ipython",
    "version": 3
   },
   "file_extension": ".py",
   "mimetype": "text/x-python",
   "name": "python",
   "nbconvert_exporter": "python",
   "pygments_lexer": "ipython3",
   "version": "3.9.7"
  }
 },
 "nbformat": 4,
 "nbformat_minor": 5
}
