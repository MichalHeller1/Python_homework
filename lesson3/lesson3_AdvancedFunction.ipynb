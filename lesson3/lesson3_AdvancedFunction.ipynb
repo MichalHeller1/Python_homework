{
 "cells": [
  {
   "cell_type": "markdown",
   "id": "58c9a4a0",
   "metadata": {},
   "source": [
    "# Advanced functions -  one liner"
   ]
  },
  {
   "cell_type": "markdown",
   "id": "aca3c88e",
   "metadata": {},
   "source": [
    "### map()"
   ]
  },
  {
   "cell_type": "code",
   "execution_count": null,
   "id": "4cfdd511",
   "metadata": {},
   "outputs": [],
   "source": [
    "def square(num):\n",
    "     return num ** 2\n",
    "list_of_numbers = [2, 3, 4, 5, 6]\n",
    "new_list = []\n",
    "for number in list_of_numbers:\n",
    "    new_list.append(square(number))\n",
    "print(new_list)\n"
   ]
  },
  {
   "cell_type": "code",
   "execution_count": 1,
   "id": "6bd56035",
   "metadata": {},
   "outputs": [],
   "source": [
    "list_of_numbers = [2, 3, 4, 5, 6]"
   ]
  },
  {
   "cell_type": "code",
   "execution_count": 2,
   "id": "106ed896",
   "metadata": {},
   "outputs": [],
   "source": [
    "def square(num):\n",
    "     return num ** 2"
   ]
  },
  {
   "cell_type": "code",
   "execution_count": 3,
   "id": "48004038",
   "metadata": {},
   "outputs": [],
   "source": [
    "new_list = []\n",
    "for number in list_of_numbers:\n",
    "    new_list.append(square(number))"
   ]
  },
  {
   "cell_type": "code",
   "execution_count": 4,
   "id": "4e611c66",
   "metadata": {},
   "outputs": [
    {
     "name": "stdout",
     "output_type": "stream",
     "text": [
      "[4, 9, 16, 25, 36]\n"
     ]
    }
   ],
   "source": [
    "print(new_list)"
   ]
  },
  {
   "cell_type": "markdown",
   "id": "5116de38",
   "metadata": {},
   "source": [
    "### map(function, iterables)"
   ]
  },
  {
   "cell_type": "code",
   "execution_count": 11,
   "id": "6168bd03",
   "metadata": {},
   "outputs": [
    {
     "name": "stdout",
     "output_type": "stream",
     "text": [
      "[4, 9, 16, 25, 36]\n"
     ]
    }
   ],
   "source": [
    "#def square(num):\n",
    "#    return num ** 2\n",
    "#list_of_numbers = [2, 3, 4, 5, 6]\n",
    "result = map(square, list_of_numbers)\n",
    "print(list(result))\n"
   ]
  },
  {
   "cell_type": "code",
   "execution_count": null,
   "id": "96a86431",
   "metadata": {},
   "outputs": [],
   "source": []
  },
  {
   "cell_type": "markdown",
   "id": "1ee52d74",
   "metadata": {},
   "source": [
    "What will the following function return?"
   ]
  },
  {
   "cell_type": "code",
   "execution_count": 15,
   "id": "10da8803",
   "metadata": {},
   "outputs": [],
   "source": [
    "def magic(a, b):\n",
    "    return a * b\n",
    "\n",
    "list_one = [1, 2, -5, 6,4,5]\n",
    "list_two = [2, -1, 3, 4]\n",
    "\n"
   ]
  },
  {
   "cell_type": "code",
   "execution_count": 16,
   "id": "612bc442",
   "metadata": {},
   "outputs": [
    {
     "name": "stdout",
     "output_type": "stream",
     "text": [
      "[2, -2, -15, 24]\n"
     ]
    }
   ],
   "source": [
    "print(list(map(magic, list_one, list_two)))\n"
   ]
  },
  {
   "cell_type": "markdown",
   "id": "85a4b51b",
   "metadata": {},
   "source": [
    "### filter()"
   ]
  },
  {
   "cell_type": "code",
   "execution_count": 17,
   "id": "89c4d19b",
   "metadata": {},
   "outputs": [
    {
     "name": "stdout",
     "output_type": "stream",
     "text": [
      "['Dance remix.mp4', 'Shallow.mp4', 'It gets better (with time).mp4']\n"
     ]
    }
   ],
   "source": [
    "# List of file names.\n",
    "my_files = [\"Dance remix.mp4\", \"work.docx\", \"lists.pdf\", \"cheatsheet.pdf\", \"Shallow.mp4\", \"security-lesson.ppt\", \"The good doctor.srt\", \"lecture slides.pptx\", \"It gets better (with time).mp4\", \"exam.docx\"]\n",
    "# Filter mp4 files using a \"for\" loop.\n",
    "mp4_list = []\n",
    "for file in my_files:\n",
    "     if file.endswith(\"mp4\"):\n",
    "        mp4_list.append(file)\n",
    "print(mp4_list)"
   ]
  },
  {
   "cell_type": "markdown",
   "id": "52b02fb2",
   "metadata": {},
   "source": [
    "### filter(filter_function, sequence)"
   ]
  },
  {
   "cell_type": "code",
   "execution_count": 18,
   "id": "1a0612d2",
   "metadata": {},
   "outputs": [],
   "source": [
    "# List of file names.\n",
    "my_files = [\"Dance remix.mp4\", \"work.docx\", \"lists.pdf\", \"cheatsheet.pdf\", \"Shallow.mp4\", \"security-lesson.ppt\", \"The good doctor.srt\", \"lecture slides.pptx\", \"It gets better (with time).mp4\", \"exam.docx\"]\n",
    "\n",
    "# Filter mp4 files using the function \"filter\".\n",
    "def is_mp4_file(filename):\n",
    "    return filename.endswith(\".mp4\")"
   ]
  },
  {
   "cell_type": "code",
   "execution_count": 19,
   "id": "1ed0bd6e",
   "metadata": {},
   "outputs": [
    {
     "name": "stdout",
     "output_type": "stream",
     "text": [
      "['Dance remix.mp4', 'Shallow.mp4', 'It gets better (with time).mp4']\n"
     ]
    }
   ],
   "source": [
    "print(list( filter(is_mp4_file, my_files) ))"
   ]
  },
  {
   "cell_type": "markdown",
   "id": "6bd7ea5a",
   "metadata": {},
   "source": [
    "What will the following function return?"
   ]
  },
  {
   "cell_type": "code",
   "execution_count": 20,
   "id": "44096972",
   "metadata": {},
   "outputs": [
    {
     "name": "stdout",
     "output_type": "stream",
     "text": [
      "[1, 3, 5, 7, 9]\n"
     ]
    }
   ],
   "source": [
    "def func(x):\n",
    "    return x % 2 != 0\n",
    "print(list(filter(func, range(10))))\n"
   ]
  },
  {
   "cell_type": "markdown",
   "id": "57e74d95",
   "metadata": {},
   "source": [
    "### reduce()"
   ]
  },
  {
   "cell_type": "markdown",
   "id": "220ba7dc",
   "metadata": {},
   "source": [
    "<h3> \n",
    "import functools\n",
    "\n",
    "functools.reduce(function, sequence)\n",
    "</h3>"
   ]
  },
  {
   "cell_type": "code",
   "execution_count": 21,
   "id": "dfa9d8bf",
   "metadata": {},
   "outputs": [
    {
     "name": "stdout",
     "output_type": "stream",
     "text": [
      "700\n"
     ]
    }
   ],
   "source": [
    "import functools\n",
    "def add(x, y):\n",
    "    return x + y\n",
    "shopping_list = [200, 120, 330, 50]\n",
    "print(functools.reduce(add, shopping_list))\n"
   ]
  },
  {
   "cell_type": "markdown",
   "id": "b39c5ed3",
   "metadata": {},
   "source": [
    "What will the following function return?"
   ]
  },
  {
   "cell_type": "code",
   "execution_count": 22,
   "id": "0a62f764",
   "metadata": {},
   "outputs": [
    {
     "name": "stdout",
     "output_type": "stream",
     "text": [
      "11\n"
     ]
    }
   ],
   "source": [
    "#import functools\n",
    "def f(a, b):\n",
    "    if a < b:\n",
    "        return a\n",
    "    else:\n",
    "        return b\n",
    "print(functools.reduce(f, [47,11,42,102,13]))"
   ]
  },
  {
   "cell_type": "markdown",
   "id": "650fb5d9",
   "metadata": {},
   "source": [
    "## Lambda function"
   ]
  },
  {
   "cell_type": "markdown",
   "id": "f8e2ba36",
   "metadata": {},
   "source": [
    "###    lambda      x,y,z    :      x+y+z\n"
   ]
  },
  {
   "cell_type": "code",
   "execution_count": 23,
   "id": "7c5e236d",
   "metadata": {},
   "outputs": [
    {
     "name": "stdout",
     "output_type": "stream",
     "text": [
      "700\n"
     ]
    }
   ],
   "source": [
    "import functools\n",
    "def add(x, y):\n",
    "    return x + y\n",
    "shopping_list = [200, 120, 330, 50]\n",
    "print(functools.reduce(add, shopping_list))\n"
   ]
  },
  {
   "cell_type": "markdown",
   "id": "a9fff37b",
   "metadata": {},
   "source": [
    "with lambda:"
   ]
  },
  {
   "cell_type": "code",
   "execution_count": 24,
   "id": "00598a0a",
   "metadata": {},
   "outputs": [
    {
     "name": "stdout",
     "output_type": "stream",
     "text": [
      "700\n"
     ]
    }
   ],
   "source": [
    "print(functools.reduce( lambda x, y: x + y , shopping_list))"
   ]
  },
  {
   "cell_type": "markdown",
   "id": "9e9f8502",
   "metadata": {},
   "source": [
    "What will be the result?"
   ]
  },
  {
   "cell_type": "code",
   "execution_count": 25,
   "id": "05c20b12",
   "metadata": {},
   "outputs": [
    {
     "name": "stdout",
     "output_type": "stream",
     "text": [
      "True\n"
     ]
    }
   ],
   "source": [
    "print((lambda y, x: x in y) ([1, 5, 6, 9], 9))"
   ]
  },
  {
   "cell_type": "code",
   "execution_count": 26,
   "id": "ff813abc",
   "metadata": {},
   "outputs": [],
   "source": [
    "def func(y, x):\n",
    "    return x in y"
   ]
  },
  {
   "cell_type": "markdown",
   "id": "eb582553",
   "metadata": {},
   "source": [
    "save lambda to variable:"
   ]
  },
  {
   "cell_type": "code",
   "execution_count": null,
   "id": "8d669964",
   "metadata": {},
   "outputs": [],
   "source": [
    "new_add = lambda x, y: x + y\n",
    "print(new_add(2, 5))\n"
   ]
  },
  {
   "cell_type": "markdown",
   "id": "fbac36d3",
   "metadata": {},
   "source": [
    "use lambda in list:"
   ]
  },
  {
   "cell_type": "code",
   "execution_count": 27,
   "id": "d1de6274",
   "metadata": {},
   "outputs": [
    {
     "name": "stdout",
     "output_type": "stream",
     "text": [
      "9\n",
      "27\n",
      "81\n"
     ]
    }
   ],
   "source": [
    "calc_sqrt_list = [lambda x: x ** 2, lambda x: x ** 3, lambda x: x ** 4]\n",
    "for func in calc_sqrt_list:\n",
    "    print(func(3))\n"
   ]
  },
  {
   "cell_type": "markdown",
   "id": "c05cb030",
   "metadata": {},
   "source": [
    "## List Comprehension"
   ]
  },
  {
   "cell_type": "markdown",
   "id": "22e54320",
   "metadata": {},
   "source": [
    "### newlist = [expression for item in iterable if condition == True]\n"
   ]
  },
  {
   "cell_type": "code",
   "execution_count": 28,
   "id": "78253ae5",
   "metadata": {},
   "outputs": [],
   "source": [
    "ls=[\"apple\", \"banana\", \"cherry\", \"kiwi\", \"mango\"]"
   ]
  },
  {
   "cell_type": "code",
   "execution_count": 29,
   "id": "b5f52709",
   "metadata": {},
   "outputs": [
    {
     "data": {
      "text/plain": [
       "['apple', 'banana', 'cherry', 'kiwi', 'mango']"
      ]
     },
     "execution_count": 29,
     "metadata": {},
     "output_type": "execute_result"
    }
   ],
   "source": [
    "ls"
   ]
  },
  {
   "cell_type": "code",
   "execution_count": 36,
   "id": "3c324c01",
   "metadata": {},
   "outputs": [],
   "source": [
    "ls2=[x.upper() for x in ls] "
   ]
  },
  {
   "cell_type": "code",
   "execution_count": 37,
   "id": "26d1a2ce",
   "metadata": {},
   "outputs": [
    {
     "data": {
      "text/plain": [
       "['APPLE', 'BANANA', 'CHERRY', 'KIWI', 'MANGO']"
      ]
     },
     "execution_count": 37,
     "metadata": {},
     "output_type": "execute_result"
    }
   ],
   "source": [
    "ls2"
   ]
  },
  {
   "cell_type": "code",
   "execution_count": 31,
   "id": "80863456",
   "metadata": {},
   "outputs": [
    {
     "data": {
      "text/plain": [
       "['banana', 'cherry', 'kiwi', 'mango']"
      ]
     },
     "execution_count": 31,
     "metadata": {},
     "output_type": "execute_result"
    }
   ],
   "source": [
    " [x for x in ls if x != \"apple\"]"
   ]
  },
  {
   "cell_type": "code",
   "execution_count": 32,
   "id": "a6c9e041",
   "metadata": {},
   "outputs": [
    {
     "data": {
      "text/plain": [
       "[0, 1, 2, 3, 4]"
      ]
     },
     "execution_count": 32,
     "metadata": {},
     "output_type": "execute_result"
    }
   ],
   "source": [
    "[x for x in range(10) if x < 5]"
   ]
  },
  {
   "cell_type": "code",
   "execution_count": 33,
   "id": "8c706785",
   "metadata": {},
   "outputs": [
    {
     "data": {
      "text/plain": [
       "[0, 4, 16, 36, 64]"
      ]
     },
     "execution_count": 33,
     "metadata": {},
     "output_type": "execute_result"
    }
   ],
   "source": [
    "[s**2 for s in range(10)if s%2 == 0]"
   ]
  },
  {
   "cell_type": "code",
   "execution_count": 34,
   "id": "70163c3d",
   "metadata": {},
   "outputs": [
    {
     "data": {
      "text/plain": [
       "['apple', 'orange', 'cherry', 'kiwi', 'mango']"
      ]
     },
     "execution_count": 34,
     "metadata": {},
     "output_type": "execute_result"
    }
   ],
   "source": [
    "[x if x != \"banana\" else \"orange\" for x in ls]"
   ]
  },
  {
   "cell_type": "code",
   "execution_count": 35,
   "id": "7d1e8997",
   "metadata": {},
   "outputs": [
    {
     "data": {
      "text/plain": [
       "['hello', 'hello', 'hello', 'hello', 'hello']"
      ]
     },
     "execution_count": 35,
     "metadata": {},
     "output_type": "execute_result"
    }
   ],
   "source": [
    "[\"hello\" for x in ls]"
   ]
  }
 ],
 "metadata": {
  "kernelspec": {
   "display_name": "Python 3 (ipykernel)",
   "language": "python",
   "name": "python3"
  },
  "language_info": {
   "codemirror_mode": {
    "name": "ipython",
    "version": 3
   },
   "file_extension": ".py",
   "mimetype": "text/x-python",
   "name": "python",
   "nbconvert_exporter": "python",
   "pygments_lexer": "ipython3",
   "version": "3.9.7"
  }
 },
 "nbformat": 4,
 "nbformat_minor": 5
}
