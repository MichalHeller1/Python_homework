{
 "cells": [
  {
   "cell_type": "markdown",
   "id": "1ba081d0",
   "metadata": {},
   "source": [
    "# lesson2 HW\n"
   ]
  },
  {
   "cell_type": "markdown",
   "id": "1e89c271",
   "metadata": {},
   "source": [
    "<pre> \n",
    "1.  Write a program that receives a sentence from the user (assume it is at least 50 characters long) and prints the following:\n",
    "The first 8 characters\n",
    "The last 6 characters\n",
    "Every third character\n",
    "The first quarter of the string\n",
    "The string in uppercase letters\n",
    "the string is reversed\n",
    "</pre>\n"
   ]
  },
  {
   "cell_type": "code",
   "execution_count": 10,
   "id": "79ab3878",
   "metadata": {},
   "outputs": [
    {
     "name": "stdout",
     "output_type": "stream",
     "text": [
      "enter sentenceenter sentence hi every body my name is tamar\n",
      "The first 8 characters is:  enter se\n",
      "The last 6 characters is:   tamar\n",
      "Every third character is:  eestcherbyya  m\n",
      "The first quarter of the string is:  enter sente\n",
      "The string in uppercase letters is:  ENTER SENTENCE HI EVERY BODY MY NAME IS TAMAR\n",
      "the string is reversed is:  ramat si eman ym ydob yreve ih ecnetnes retne\n"
     ]
    }
   ],
   "source": [
    "userSentence = input(\"enter sentence\")\n",
    "print(\"The first 8 characters is: \",userSentence[:8])\n",
    "print(\"The last 6 characters is: \",userSentence[-6:len(userSentence)])\n",
    "print(\"Every third character is: \",userSentence[::3])\n",
    "print(\"The first quarter of the string is: \",userSentence[:(len(userSentence)//4)])\n",
    "print(\"The string in uppercase letters is: \",userSentence.upper())\n",
    "print(\"the string is reversed is: \",userSentence[::-1])"
   ]
  },
  {
   "cell_type": "markdown",
   "id": "892215af",
   "metadata": {},
   "source": [
    "<pre> 2. Write a program to count the number of characters (character frequency) in a string. \n",
    "Sample String : google.com'\n",
    "Expected Result : {'g': 2, 'o': 3, 'l': 1, 'e': 1, '.': 1, 'c': 1, 'm': 1}\n",
    "</pre>"
   ]
  },
  {
   "cell_type": "code",
   "execution_count": 24,
   "id": "df14b2a4",
   "metadata": {},
   "outputs": [
    {
     "name": "stdout",
     "output_type": "stream",
     "text": [
      "{'g': 2, 'o': 3, 'l': 1, 'e': 1, '.': 1, 'c': 1, 'm': 1}\n"
     ]
    }
   ],
   "source": [
    "str = 'google.com'\n",
    "d={}\n",
    "for i in str:\n",
    "    d[i] = str.count(i)\n",
    "    \n",
    "print(d)"
   ]
  },
  {
   "cell_type": "markdown",
   "id": "9e2a10f8",
   "metadata": {},
   "source": [
    "<pre>\n",
    "3.  Write a program to get a string made of the first 2 and last 2 characters of a given string. If the string length is less than 2, return the empty string instead. \n",
    "Sample String : 'python'\n",
    "Expected Result : 'pyon'\n",
    "Sample String : 'py’'\n",
    "Expected Result : 'pypy'\n",
    "Sample String : 'p'\n",
    "Expected Result : Empty String\n",
    "\n",
    "</pre>"
   ]
  },
  {
   "cell_type": "code",
   "execution_count": 33,
   "id": "9f8c71d1",
   "metadata": {},
   "outputs": [
    {
     "name": "stdout",
     "output_type": "stream",
     "text": [
      "enter string: tamar\n",
      "taar\n"
     ]
    }
   ],
   "source": [
    "str = input(\"enter string: \")\n",
    "if len(str)>=2:\n",
    "    print(str[:2]+str[-2:len(str)])\n",
    "else:\n",
    "    print(\"Empty String\")"
   ]
  },
  {
   "cell_type": "markdown",
   "id": "783ab48e",
   "metadata": {},
   "source": [
    "<pre>\n",
    "4.  qWrite a program to create a new string made of an input string’s:\n",
    "first, middle, and last character.\n",
    "Sample String : 'Tamar'\n",
    "Expected Result : ‘Tmr’\n",
    "the middle three characters of an input string.\n",
    "Sample String : 'Tamar'\n",
    "Expected Result : ‘ama’\n",
    "\n",
    "</pre>"
   ]
  },
  {
   "cell_type": "code",
   "execution_count": 1,
   "id": "8bf3d242",
   "metadata": {},
   "outputs": [
    {
     "name": "stdout",
     "output_type": "stream",
     "text": [
      "enter string: Tamar\n",
      "first, middle, and last character:  Tmr\n",
      "the middle three characters of an input string:  ama\n"
     ]
    }
   ],
   "source": [
    "str = input(\"enter string: \")\n",
    "print(\"first, middle, and last character: \",str[0]+str[len(str)//2]+str[-1] )\n",
    "print(\"the middle three characters of an input string: \",str[(len(str)//2)-1]+str[len(str)//2]+str[(len(str)//2)+1] )"
   ]
  },
  {
   "cell_type": "markdown",
   "id": "1c5a0586",
   "metadata": {},
   "source": [
    "<pre>\n",
    "5. Write a program to calculate the sum of series up to n term.\n",
    "For example, if n =5 the series will become \n",
    "2 + 22 + 222 + 2222 + 22222 = 24690\n",
    "</pre>"
   ]
  },
  {
   "cell_type": "code",
   "execution_count": 51,
   "id": "2a8f8869",
   "metadata": {},
   "outputs": [
    {
     "name": "stdout",
     "output_type": "stream",
     "text": [
      "enter n term: 5\n",
      "24690\n"
     ]
    }
   ],
   "source": [
    "num = input(\"enter n term: \")\n",
    "sum=0\n",
    "for i in range(1,int(num)+1):\n",
    "   sum+=int(\"2\"*i)\n",
    "    \n",
    "print(sum)"
   ]
  },
  {
   "cell_type": "markdown",
   "id": "5741128e",
   "metadata": {},
   "source": [
    "<pre>\n",
    "6. Write a Python program to print a specified list after removing the 0th, 4th and 5th elements.\n",
    "Sample List : ['Red', 'Green', 'White', 'Black', 'Pink', 'Yellow']\n",
    "Expected Output : ['Green', 'White', 'Black']\n",
    "</pre>"
   ]
  },
  {
   "cell_type": "code",
   "execution_count": 1,
   "id": "1e1e9cb2",
   "metadata": {},
   "outputs": [
    {
     "name": "stdout",
     "output_type": "stream",
     "text": [
      "['Red', 'Green', 'White', 'Black', 'Pink', 'Yellow']\n"
     ]
    }
   ],
   "source": [
    "ls = ['Red', 'Green', 'White', 'Black', 'Pink', 'Yellow']\n",
    "print(ls)"
   ]
  },
  {
   "cell_type": "code",
   "execution_count": 4,
   "id": "a7505216",
   "metadata": {},
   "outputs": [],
   "source": [
    "newls=[x for (i,x) in enumerate(ls) if i not in (0,4,5)]"
   ]
  },
  {
   "cell_type": "code",
   "execution_count": 5,
   "id": "f8c43a43",
   "metadata": {},
   "outputs": [
    {
     "name": "stdout",
     "output_type": "stream",
     "text": [
      "['Green', 'White', 'Black']\n"
     ]
    }
   ],
   "source": [
    "print(newls)"
   ]
  },
  {
   "cell_type": "code",
   "execution_count": 6,
   "id": "53064f8a",
   "metadata": {},
   "outputs": [
    {
     "name": "stdout",
     "output_type": "stream",
     "text": [
      "Green\n",
      "White\n",
      "Black\n"
     ]
    }
   ],
   "source": [
    "for (i,x) in enumerate(ls):\n",
    "    if i not in (0,4,5):\n",
    "        print(x)"
   ]
  },
  {
   "cell_type": "markdown",
   "id": "19ec5c4a",
   "metadata": {},
   "source": [
    "<pre>\n",
    "7. Write a program to create a new list based on a list of fruits, containing only the fruits with the letter \"a\" in the name:\n",
    "fruits = [\"apple\", \"banana\", \"cherry\", \"kiwi\", \"mango\"]\n",
    "Expected Output : ['apple', 'banana', 'mango']\n",
    "* try to do all that with only one line of code\n",
    "</pre>"
   ]
  },
  {
   "cell_type": "code",
   "execution_count": 73,
   "id": "29882cb6",
   "metadata": {},
   "outputs": [],
   "source": [
    "fruits = [\"apple\", \"banana\", \"cherry\", \"kiwi\", \"mango\"]"
   ]
  },
  {
   "cell_type": "code",
   "execution_count": 74,
   "id": "70a2adb3",
   "metadata": {},
   "outputs": [],
   "source": [
    "nl  = []"
   ]
  },
  {
   "cell_type": "code",
   "execution_count": 76,
   "id": "2de096e5",
   "metadata": {},
   "outputs": [
    {
     "name": "stdout",
     "output_type": "stream",
     "text": [
      "['apple', 'banana', 'mango']\n"
     ]
    }
   ],
   "source": [
    "for f in fruits:\n",
    "    if \"a\" in f:\n",
    "        nl.append(f)\n",
    "        \n",
    "print(nl)"
   ]
  },
  {
   "cell_type": "code",
   "execution_count": 80,
   "id": "bb831471",
   "metadata": {},
   "outputs": [
    {
     "name": "stdout",
     "output_type": "stream",
     "text": [
      "['apple', 'banana', 'mango']\n"
     ]
    }
   ],
   "source": [
    "nl = [f for f in fruits if  \"a\" in f]\n",
    "print(nl)"
   ]
  },
  {
   "cell_type": "markdown",
   "id": "2167bc64",
   "metadata": {},
   "source": [
    "<pre>\n",
    "8.  Given two lists, l1 and l2, write a program to create a third list l3 by picking an odd-index element from the list l1 and even index elements from the list l2.\n",
    "Sample Lists:\n",
    "l1 = [3, 6, 9, 12, 15, 18, 21]\n",
    "l2 = [4, 8, 12, 16, 20, 24, 28]\n",
    "Expected Output : \n",
    "Element at odd-index positions from list one: [6, 12, 18]\n",
    "Element at even-index positions from list two: [4, 12, 20, 28]\n",
    "Printing Final third list: [6, 12, 18, 4, 12, 20, 28]\n",
    "\n",
    "</pre>"
   ]
  },
  {
   "cell_type": "code",
   "execution_count": 2,
   "id": "a01de120",
   "metadata": {},
   "outputs": [],
   "source": [
    "l1 = [3, 6, 9, 12, 15, 18, 21]\n",
    "l2 = [4, 8, 12, 16, 20, 24, 28]"
   ]
  },
  {
   "cell_type": "code",
   "execution_count": 18,
   "id": "fac60b5a",
   "metadata": {},
   "outputs": [],
   "source": [
    "l3=[x for (i,x) in enumerate(l1) if (i%2 != 0)] + [x for (i,x) in enumerate(l2) if (i%2 == 0)]"
   ]
  },
  {
   "cell_type": "code",
   "execution_count": 19,
   "id": "92f12020",
   "metadata": {},
   "outputs": [
    {
     "data": {
      "text/plain": [
       "[6, 12, 18, 4, 12, 20, 28]"
      ]
     },
     "execution_count": 19,
     "metadata": {},
     "output_type": "execute_result"
    }
   ],
   "source": [
    "l3"
   ]
  },
  {
   "cell_type": "markdown",
   "id": "eb461108",
   "metadata": {},
   "source": [
    "<pre>\n",
    "9.  Write a program to create a Fibonacci Sequence.\n",
    "The Fibonacci Sequence is a series of numbers. The next number is found by adding up the two numbers before it. The first numbers are 0 and 1.\n",
    "Expected output:\n",
    "Fibonacci sequence: 0  1  1  2  3  5  8  13  21  34\n",
    "</pre>"
   ]
  },
  {
   "cell_type": "code",
   "execution_count": 25,
   "id": "5401d57f",
   "metadata": {},
   "outputs": [
    {
     "name": "stdout",
     "output_type": "stream",
     "text": [
      "1\n",
      "1\n",
      "2\n",
      "3\n",
      "5\n",
      "8\n",
      "13\n",
      "21\n",
      "34\n"
     ]
    }
   ],
   "source": [
    "x,y=0,1\n",
    "\n",
    "while y<50:\n",
    "    print(y)\n",
    "    x,y = y,x+y"
   ]
  },
  {
   "cell_type": "markdown",
   "id": "b927ec53",
   "metadata": {},
   "source": [
    "<pre>\n",
    "10.  Write a program  to print a dictionary where the keys are numbers between 1 and 15 (both included) and the values are the square of the keys. \n",
    "Sample Dictionary\n",
    "{1: 1, 2: 4, 3: 9, 4: 16, 5: 25, 6: 36, 7: 49, 8: 64, 9: 81, 10: 100, 11: 121, 12: 144, 13: 169, 14: 196, 15: 225}\n",
    "</pre>"
   ]
  },
  {
   "cell_type": "code",
   "execution_count": 27,
   "id": "5fd51208",
   "metadata": {},
   "outputs": [
    {
     "name": "stdout",
     "output_type": "stream",
     "text": [
      "{1: 1, 2: 4, 3: 9, 4: 16, 5: 25, 6: 36, 7: 49, 8: 64, 9: 81, 10: 100, 11: 121, 12: 144, 13: 169, 14: 196, 15: 225}\n"
     ]
    }
   ],
   "source": [
    "d=dict()\n",
    "for x in range(1,16):\n",
    "    d[x]=x**2\n",
    "print(d)  "
   ]
  },
  {
   "cell_type": "code",
   "execution_count": null,
   "id": "acae932e",
   "metadata": {},
   "outputs": [],
   "source": []
  }
 ],
 "metadata": {
  "kernelspec": {
   "display_name": "Python 3 (ipykernel)",
   "language": "python",
   "name": "python3"
  },
  "language_info": {
   "codemirror_mode": {
    "name": "ipython",
    "version": 3
   },
   "file_extension": ".py",
   "mimetype": "text/x-python",
   "name": "python",
   "nbconvert_exporter": "python",
   "pygments_lexer": "ipython3",
   "version": "3.9.7"
  }
 },
 "nbformat": 4,
 "nbformat_minor": 5
}
