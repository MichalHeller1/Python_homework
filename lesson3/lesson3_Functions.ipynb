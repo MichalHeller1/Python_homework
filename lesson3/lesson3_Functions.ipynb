{
 "cells": [
  {
   "cell_type": "markdown",
   "id": "c71797a9",
   "metadata": {},
   "source": [
    "## enumerate() Function"
   ]
  },
  {
   "cell_type": "code",
   "execution_count": null,
   "id": "34996c7d",
   "metadata": {},
   "outputs": [],
   "source": [
    "x = ('apple', 'banana', 'cherry')\n",
    "y = enumerate(x)"
   ]
  },
  {
   "cell_type": "code",
   "execution_count": null,
   "id": "3f65da43",
   "metadata": {},
   "outputs": [],
   "source": [
    "for i in y:\n",
    "    print(i)"
   ]
  },
  {
   "cell_type": "code",
   "execution_count": null,
   "id": "b15217d5",
   "metadata": {},
   "outputs": [],
   "source": [
    "print(list(y))"
   ]
  },
  {
   "cell_type": "markdown",
   "id": "e7404c69",
   "metadata": {},
   "source": [
    "# Fuctions"
   ]
  },
  {
   "cell_type": "code",
   "execution_count": 1,
   "id": "30f2b7f2",
   "metadata": {},
   "outputs": [],
   "source": [
    "def add(x,y):\n",
    "    return x+y"
   ]
  },
  {
   "cell_type": "code",
   "execution_count": 2,
   "id": "39f074b1",
   "metadata": {},
   "outputs": [
    {
     "name": "stdout",
     "output_type": "stream",
     "text": [
      "8\n"
     ]
    }
   ],
   "source": [
    "print(add(3,5))"
   ]
  },
  {
   "cell_type": "markdown",
   "id": "a22b50f1",
   "metadata": {},
   "source": [
    "returns:"
   ]
  },
  {
   "cell_type": "code",
   "execution_count": 3,
   "id": "cb1e6e7b",
   "metadata": {},
   "outputs": [
    {
     "name": "stdout",
     "output_type": "stream",
     "text": [
      "3\n",
      "4\n"
     ]
    }
   ],
   "source": [
    "def func(x,y):\n",
    "    return x,y\n",
    "\n",
    "x,y=func(3,4)\n",
    "print(x)\n",
    "print(y)"
   ]
  },
  {
   "cell_type": "raw",
   "id": "d3d7309e",
   "metadata": {},
   "source": [
    "return None:"
   ]
  },
  {
   "cell_type": "code",
   "execution_count": 4,
   "id": "ac68ade6",
   "metadata": {},
   "outputs": [
    {
     "name": "stdout",
     "output_type": "stream",
     "text": [
      "None\n"
     ]
    }
   ],
   "source": [
    "def func(x,y):\n",
    "    c= x,y\n",
    "\n",
    "x=func(3,4)\n",
    "print(x)"
   ]
  },
  {
   "cell_type": "markdown",
   "id": "e868ef6b",
   "metadata": {},
   "source": [
    "## Arguments"
   ]
  },
  {
   "cell_type": "markdown",
   "id": "713e23cb",
   "metadata": {},
   "source": [
    "default arguments:"
   ]
  },
  {
   "cell_type": "code",
   "execution_count": 9,
   "id": "cf9fb87f",
   "metadata": {},
   "outputs": [],
   "source": [
    "def add(x,y=4,c=5):\n",
    "    return x+y"
   ]
  },
  {
   "cell_type": "code",
   "execution_count": 10,
   "id": "d9ca512c",
   "metadata": {},
   "outputs": [
    {
     "data": {
      "text/plain": [
       "8"
      ]
     },
     "execution_count": 10,
     "metadata": {},
     "output_type": "execute_result"
    }
   ],
   "source": [
    "add(3,5)"
   ]
  },
  {
   "cell_type": "markdown",
   "id": "850d678b",
   "metadata": {},
   "source": [
    "Keyword Arguments:"
   ]
  },
  {
   "cell_type": "code",
   "execution_count": 11,
   "id": "b624002e",
   "metadata": {
    "scrolled": true
   },
   "outputs": [
    {
     "data": {
      "text/plain": [
       "7"
      ]
     },
     "execution_count": 11,
     "metadata": {},
     "output_type": "execute_result"
    }
   ],
   "source": [
    "add(x=3)"
   ]
  },
  {
   "cell_type": "code",
   "execution_count": 12,
   "id": "c979d380",
   "metadata": {},
   "outputs": [
    {
     "data": {
      "text/plain": [
       "6"
      ]
     },
     "execution_count": 12,
     "metadata": {},
     "output_type": "execute_result"
    }
   ],
   "source": [
    "add(c=5,x=2,y=4)"
   ]
  },
  {
   "cell_type": "code",
   "execution_count": 13,
   "id": "aa1baef5",
   "metadata": {},
   "outputs": [
    {
     "data": {
      "text/plain": [
       "8"
      ]
     },
     "execution_count": 13,
     "metadata": {},
     "output_type": "execute_result"
    }
   ],
   "source": [
    "def add(*,x,y=4):\n",
    "    return x+y\n",
    "add(x=4,y=4)"
   ]
  },
  {
   "cell_type": "code",
   "execution_count": 17,
   "id": "0cb9adbc",
   "metadata": {},
   "outputs": [
    {
     "data": {
      "text/plain": [
       "7"
      ]
     },
     "execution_count": 17,
     "metadata": {},
     "output_type": "execute_result"
    }
   ],
   "source": [
    "add(x=3,y=4)"
   ]
  },
  {
   "cell_type": "markdown",
   "id": "3b18b5ba",
   "metadata": {},
   "source": [
    "### Arbitrary Arguments, *args"
   ]
  },
  {
   "cell_type": "code",
   "execution_count": 18,
   "id": "d3ae1f67",
   "metadata": {},
   "outputs": [
    {
     "name": "stdout",
     "output_type": "stream",
     "text": [
      "Average 63.333333333333336\n"
     ]
    }
   ],
   "source": [
    "def percentage(sub1, sub2, sub3):\n",
    "    avg = (sub1 + sub2 + sub3) / 3\n",
    "    print('Average', avg)\n",
    "\n",
    "percentage(56, 61, 73)"
   ]
  },
  {
   "cell_type": "code",
   "execution_count": 29,
   "id": "cd665d23",
   "metadata": {},
   "outputs": [],
   "source": [
    "def percentage(*subjects):\n",
    "    sum = 0\n",
    "    for i in subjects:\n",
    "        # get total\n",
    "        sum = sum + i\n",
    "    # calculate average\n",
    "    avg = sum / len(subjects)\n",
    "    print('Average =', avg)\n",
    "\n"
   ]
  },
  {
   "cell_type": "code",
   "execution_count": 30,
   "id": "63afb474",
   "metadata": {},
   "outputs": [
    {
     "name": "stdout",
     "output_type": "stream",
     "text": [
      "<class 'tuple'>\n",
      "<class 'tuple'>\n",
      "<class 'tuple'>\n",
      "<class 'tuple'>\n",
      "<class 'tuple'>\n",
      "Average = 64.0\n"
     ]
    }
   ],
   "source": [
    "percentage(56, 61, 73,50,80)"
   ]
  },
  {
   "cell_type": "code",
   "execution_count": null,
   "id": "6e4e0d71",
   "metadata": {},
   "outputs": [],
   "source": [
    "percentage"
   ]
  },
  {
   "cell_type": "code",
   "execution_count": 27,
   "id": "b7734ed1",
   "metadata": {},
   "outputs": [],
   "source": [
    "def scoreByNames(**kwargs):\n",
    "    print(type(kwargs))\n",
    "    for sub in kwargs:\n",
    "        print(sub, \"=\", kwargs[sub])"
   ]
  },
  {
   "cell_type": "code",
   "execution_count": 28,
   "id": "d8e9a023",
   "metadata": {},
   "outputs": [
    {
     "name": "stdout",
     "output_type": "stream",
     "text": [
      "<class 'dict'>\n",
      "math = 56\n",
      "english = 61\n",
      "science = 73\n"
     ]
    }
   ],
   "source": [
    "scoreByNames(math=56, english=61, science=73)"
   ]
  },
  {
   "cell_type": "code",
   "execution_count": 31,
   "id": "0f4d19b0",
   "metadata": {},
   "outputs": [
    {
     "data": {
      "text/plain": [
       "((), {'g': 9, 'x': 4, 'y': 6, 'v': 4, 'n': 6})"
      ]
     },
     "execution_count": 31,
     "metadata": {},
     "output_type": "execute_result"
    }
   ],
   "source": [
    "def add(*g,**y):\n",
    "    return g,y\n",
    "\n",
    "add(g=9,x=4, y=6,v=4,n=6)\n",
    "    "
   ]
  },
  {
   "cell_type": "code",
   "execution_count": 32,
   "id": "e1cafe08",
   "metadata": {},
   "outputs": [
    {
     "data": {
      "text/plain": [
       "((2, 3, 5, 6), {'y': 7})"
      ]
     },
     "execution_count": 32,
     "metadata": {},
     "output_type": "execute_result"
    }
   ],
   "source": [
    "add(2,3,5,6,y=7)"
   ]
  },
  {
   "cell_type": "code",
   "execution_count": 33,
   "id": "5376eaa1",
   "metadata": {},
   "outputs": [
    {
     "data": {
      "text/plain": [
       "(((2, 3, 5, 6),), {})"
      ]
     },
     "execution_count": 33,
     "metadata": {},
     "output_type": "execute_result"
    }
   ],
   "source": [
    "t=(2,3,5,6)\n",
    "add(t)\n"
   ]
  },
  {
   "cell_type": "code",
   "execution_count": 34,
   "id": "3ae31866",
   "metadata": {},
   "outputs": [
    {
     "data": {
      "text/plain": [
       "((2, 3, 5, 6), {})"
      ]
     },
     "execution_count": 34,
     "metadata": {},
     "output_type": "execute_result"
    }
   ],
   "source": [
    "add(*t)"
   ]
  },
  {
   "cell_type": "code",
   "execution_count": 35,
   "id": "018d3424",
   "metadata": {},
   "outputs": [
    {
     "data": {
      "text/plain": [
       "((), {})"
      ]
     },
     "execution_count": 35,
     "metadata": {},
     "output_type": "execute_result"
    }
   ],
   "source": [
    "add()"
   ]
  },
  {
   "cell_type": "code",
   "execution_count": 36,
   "id": "abeb0b94",
   "metadata": {},
   "outputs": [],
   "source": [
    "dict={\"math\":56, \"english\":61, \"science\":73}"
   ]
  },
  {
   "cell_type": "code",
   "execution_count": 38,
   "id": "f11cff53",
   "metadata": {},
   "outputs": [
    {
     "data": {
      "text/plain": [
       "((), {'math': 56, 'english': 61, 'science': 73})"
      ]
     },
     "execution_count": 38,
     "metadata": {},
     "output_type": "execute_result"
    }
   ],
   "source": [
    "add(**dict)"
   ]
  },
  {
   "cell_type": "markdown",
   "id": "e143676a",
   "metadata": {},
   "source": [
    "## Docstring"
   ]
  },
  {
   "cell_type": "code",
   "execution_count": 39,
   "id": "3965ac15",
   "metadata": {},
   "outputs": [],
   "source": [
    "def any_fun(parameter1):\n",
    "    \"\"\"              \n",
    "       Description of function\n",
    "\n",
    "       \"Arguments\":   \n",
    "       parameter1(int):Description of parameter1\n",
    "\n",
    "       Returns:      \n",
    "       int value     \n",
    "    \"\"\"              "
   ]
  },
  {
   "cell_type": "code",
   "execution_count": 41,
   "id": "29b282e4",
   "metadata": {},
   "outputs": [
    {
     "name": "stdout",
     "output_type": "stream",
     "text": [
      "              \n",
      "       Description of function\n",
      "\n",
      "       \"Arguments\":   \n",
      "       parameter1(int):Description of parameter1\n",
      "\n",
      "       Returns:      \n",
      "       int value     \n",
      "    \n"
     ]
    }
   ],
   "source": [
    "print(any_fun.__doc__)"
   ]
  },
  {
   "cell_type": "code",
   "execution_count": 40,
   "id": "6d3f125f",
   "metadata": {},
   "outputs": [
    {
     "name": "stdout",
     "output_type": "stream",
     "text": [
      "Help on function any_fun in module __main__:\n",
      "\n",
      "any_fun(parameter1)\n",
      "    Description of function\n",
      "    \n",
      "    \"Arguments\":   \n",
      "    parameter1(int):Description of parameter1\n",
      "    \n",
      "    Returns:      \n",
      "    int value\n",
      "\n"
     ]
    }
   ],
   "source": [
    "help(any_fun)"
   ]
  },
  {
   "cell_type": "markdown",
   "id": "fe39deb0",
   "metadata": {},
   "source": [
    "### Empty function:"
   ]
  },
  {
   "cell_type": "code",
   "execution_count": 48,
   "id": "b13922bd",
   "metadata": {},
   "outputs": [],
   "source": [
    "def empty_func():\n",
    "    pass"
   ]
  },
  {
   "cell_type": "code",
   "execution_count": 49,
   "id": "9e236392",
   "metadata": {},
   "outputs": [],
   "source": [
    "empty_func()"
   ]
  },
  {
   "cell_type": "markdown",
   "id": "2c645856",
   "metadata": {},
   "source": [
    "### put function in variable"
   ]
  },
  {
   "cell_type": "code",
   "execution_count": 50,
   "id": "dee28242",
   "metadata": {},
   "outputs": [
    {
     "data": {
      "text/plain": [
       "((4, 4), {})"
      ]
     },
     "execution_count": 50,
     "metadata": {},
     "output_type": "execute_result"
    }
   ],
   "source": [
    "x=add\n",
    "x(4,4)"
   ]
  },
  {
   "cell_type": "markdown",
   "id": "6bc4434d",
   "metadata": {},
   "source": [
    "## Nested functions:"
   ]
  },
  {
   "cell_type": "code",
   "execution_count": 51,
   "id": "5c6ad8bc",
   "metadata": {},
   "outputs": [],
   "source": [
    "def outer():\n",
    "    num = 42\n",
    "    def inner():\n",
    "        print(\"in inner\",num)\n",
    "    inner()\n",
    "    print(\"in outer\",num)"
   ]
  },
  {
   "cell_type": "code",
   "execution_count": 52,
   "id": "cdb84898",
   "metadata": {},
   "outputs": [
    {
     "name": "stdout",
     "output_type": "stream",
     "text": [
      "in inner 42\n",
      "in outer 42\n"
     ]
    }
   ],
   "source": [
    "outer()"
   ]
  },
  {
   "cell_type": "code",
   "execution_count": 53,
   "id": "e10709f6",
   "metadata": {},
   "outputs": [
    {
     "ename": "NameError",
     "evalue": "name 'inner' is not defined",
     "output_type": "error",
     "traceback": [
      "\u001b[1;31m---------------------------------------------------------------------------\u001b[0m",
      "\u001b[1;31mNameError\u001b[0m                                 Traceback (most recent call last)",
      "\u001b[1;32mC:\\Users\\DD43~1\\AppData\\Local\\Temp/ipykernel_1356/2697967970.py\u001b[0m in \u001b[0;36m<module>\u001b[1;34m\u001b[0m\n\u001b[1;32m----> 1\u001b[1;33m \u001b[0minner\u001b[0m\u001b[1;33m(\u001b[0m\u001b[1;33m)\u001b[0m\u001b[1;33m\u001b[0m\u001b[1;33m\u001b[0m\u001b[0m\n\u001b[0m",
      "\u001b[1;31mNameError\u001b[0m: name 'inner' is not defined"
     ]
    }
   ],
   "source": [
    "inner()"
   ]
  },
  {
   "cell_type": "markdown",
   "id": "665f46a1",
   "metadata": {},
   "source": [
    "# Scope in Python"
   ]
  },
  {
   "cell_type": "markdown",
   "id": "23a80f58",
   "metadata": {},
   "source": [
    "#### local"
   ]
  },
  {
   "cell_type": "code",
   "execution_count": 54,
   "id": "4939eccd",
   "metadata": {},
   "outputs": [
    {
     "name": "stdout",
     "output_type": "stream",
     "text": [
      "local x\n"
     ]
    }
   ],
   "source": [
    "def fun():\n",
    "    # local scope\n",
    "    x = 'local x'\n",
    "    print(x)\n",
    "\n",
    "fun()\n"
   ]
  },
  {
   "cell_type": "markdown",
   "id": "e2276df0",
   "metadata": {},
   "source": [
    "global"
   ]
  },
  {
   "cell_type": "code",
   "execution_count": 55,
   "id": "c9e8b8e9",
   "metadata": {},
   "outputs": [
    {
     "name": "stdout",
     "output_type": "stream",
     "text": [
      "local x\n",
      "global y\n"
     ]
    }
   ],
   "source": [
    "# global scope\n",
    "y = 'global y'\n",
    "\n",
    "def fun():\n",
    "    # local scope\n",
    "    x = 'local x'\n",
    "    print(x)\n",
    "\n",
    "fun()\n",
    "\n",
    "print(y)\n"
   ]
  },
  {
   "cell_type": "code",
   "execution_count": 56,
   "id": "42ce36b7",
   "metadata": {},
   "outputs": [
    {
     "name": "stdout",
     "output_type": "stream",
     "text": [
      "global y\n"
     ]
    }
   ],
   "source": [
    "\n",
    "# global scope\n",
    "y = 'global y'\n",
    "\n",
    "def fun():\n",
    "    print(y)\n",
    "\n",
    "fun()"
   ]
  },
  {
   "cell_type": "code",
   "execution_count": 57,
   "id": "6eabfbb4",
   "metadata": {},
   "outputs": [
    {
     "name": "stdout",
     "output_type": "stream",
     "text": [
      "local y\n",
      "global y\n"
     ]
    }
   ],
   "source": [
    "# global scope\n",
    "y = 'global y'\n",
    "\n",
    "def fun():\n",
    "    # local scope\n",
    "    y = 'local y'\n",
    "    print(y)\n",
    "\n",
    "fun()\n",
    "\n",
    "print(y)\n"
   ]
  },
  {
   "cell_type": "markdown",
   "id": "de00c777",
   "metadata": {},
   "source": [
    "global keyword"
   ]
  },
  {
   "cell_type": "code",
   "execution_count": 58,
   "id": "d8ef735e",
   "metadata": {},
   "outputs": [
    {
     "ename": "NameError",
     "evalue": "name 'z' is not defined",
     "output_type": "error",
     "traceback": [
      "\u001b[1;31m---------------------------------------------------------------------------\u001b[0m",
      "\u001b[1;31mNameError\u001b[0m                                 Traceback (most recent call last)",
      "\u001b[1;32mC:\\Users\\DD43~1\\AppData\\Local\\Temp/ipykernel_1356/543276834.py\u001b[0m in \u001b[0;36m<module>\u001b[1;34m\u001b[0m\n\u001b[0;32m      4\u001b[0m \u001b[0mfun\u001b[0m\u001b[1;33m(\u001b[0m\u001b[1;33m)\u001b[0m\u001b[1;33m\u001b[0m\u001b[1;33m\u001b[0m\u001b[0m\n\u001b[0;32m      5\u001b[0m \u001b[1;33m\u001b[0m\u001b[0m\n\u001b[1;32m----> 6\u001b[1;33m \u001b[0mprint\u001b[0m\u001b[1;33m(\u001b[0m\u001b[0mz\u001b[0m\u001b[1;33m)\u001b[0m\u001b[1;33m\u001b[0m\u001b[1;33m\u001b[0m\u001b[0m\n\u001b[0m",
      "\u001b[1;31mNameError\u001b[0m: name 'z' is not defined"
     ]
    }
   ],
   "source": [
    "\n",
    "def fun():\n",
    "    z = 'global y'\n",
    "\n",
    "fun()\n",
    "\n",
    "print(z)\n"
   ]
  },
  {
   "cell_type": "code",
   "execution_count": 59,
   "id": "182c6122",
   "metadata": {},
   "outputs": [
    {
     "name": "stdout",
     "output_type": "stream",
     "text": [
      "global y\n"
     ]
    }
   ],
   "source": [
    "def fun():\n",
    "    global y\n",
    "    y = 'global y'\n",
    "\n",
    "fun()\n",
    "\n",
    "print(y)\n"
   ]
  },
  {
   "cell_type": "markdown",
   "id": "85b5bb11",
   "metadata": {},
   "source": [
    "#### enclosing "
   ]
  },
  {
   "cell_type": "code",
   "execution_count": 60,
   "id": "e60964ba",
   "metadata": {},
   "outputs": [
    {
     "name": "stdout",
     "output_type": "stream",
     "text": [
      "inner x\n",
      "outer x\n"
     ]
    }
   ],
   "source": [
    "\n",
    "def fun_outer():\n",
    "    x = 'outer x'\n",
    "\n",
    "    def fun_inner():\n",
    "        x = 'inner x'\n",
    "        print(x)\n",
    "\n",
    "    fun_inner()\n",
    "    print(x)\n",
    "\n",
    "fun_outer()\n"
   ]
  },
  {
   "cell_type": "code",
   "execution_count": 61,
   "id": "d045de8b",
   "metadata": {},
   "outputs": [
    {
     "name": "stdout",
     "output_type": "stream",
     "text": [
      "outer x\n",
      "outer x\n"
     ]
    }
   ],
   "source": [
    "\n",
    "def fun_outer():\n",
    "    x = 'outer x'\n",
    "\n",
    "    def fun_inner():\n",
    "        #x = 'inner x'\n",
    "        print(x)\n",
    "\n",
    "    fun_inner()\n",
    "    print(x)\n",
    "\n",
    "fun_outer()"
   ]
  },
  {
   "cell_type": "code",
   "execution_count": 62,
   "id": "110c5b7f",
   "metadata": {},
   "outputs": [
    {
     "ename": "NameError",
     "evalue": "name 'fun_inner' is not defined",
     "output_type": "error",
     "traceback": [
      "\u001b[1;31m---------------------------------------------------------------------------\u001b[0m",
      "\u001b[1;31mNameError\u001b[0m                                 Traceback (most recent call last)",
      "\u001b[1;32mC:\\Users\\DD43~1\\AppData\\Local\\Temp/ipykernel_1356/1580612957.py\u001b[0m in \u001b[0;36m<module>\u001b[1;34m\u001b[0m\n\u001b[0;32m      8\u001b[0m     \u001b[0mfun_inner\u001b[0m\u001b[1;33m(\u001b[0m\u001b[1;33m)\u001b[0m\u001b[1;33m\u001b[0m\u001b[1;33m\u001b[0m\u001b[0m\n\u001b[0;32m      9\u001b[0m     \u001b[0mprint\u001b[0m\u001b[1;33m(\u001b[0m\u001b[0mx\u001b[0m\u001b[1;33m)\u001b[0m\u001b[1;33m\u001b[0m\u001b[1;33m\u001b[0m\u001b[0m\n\u001b[1;32m---> 10\u001b[1;33m \u001b[0mfun_outer\u001b[0m\u001b[1;33m(\u001b[0m\u001b[1;33m)\u001b[0m\u001b[1;33m\u001b[0m\u001b[1;33m\u001b[0m\u001b[0m\n\u001b[0m",
      "\u001b[1;32mC:\\Users\\DD43~1\\AppData\\Local\\Temp/ipykernel_1356/1580612957.py\u001b[0m in \u001b[0;36mfun_outer\u001b[1;34m()\u001b[0m\n\u001b[0;32m      6\u001b[0m         \u001b[0mprint\u001b[0m\u001b[1;33m(\u001b[0m\u001b[0mx\u001b[0m\u001b[1;33m)\u001b[0m\u001b[1;33m\u001b[0m\u001b[1;33m\u001b[0m\u001b[0m\n\u001b[0;32m      7\u001b[0m \u001b[1;33m\u001b[0m\u001b[0m\n\u001b[1;32m----> 8\u001b[1;33m     \u001b[0mfun_inner\u001b[0m\u001b[1;33m(\u001b[0m\u001b[1;33m)\u001b[0m\u001b[1;33m\u001b[0m\u001b[1;33m\u001b[0m\u001b[0m\n\u001b[0m\u001b[0;32m      9\u001b[0m     \u001b[0mprint\u001b[0m\u001b[1;33m(\u001b[0m\u001b[0mx\u001b[0m\u001b[1;33m)\u001b[0m\u001b[1;33m\u001b[0m\u001b[1;33m\u001b[0m\u001b[0m\n\u001b[0;32m     10\u001b[0m \u001b[0mfun_outer\u001b[0m\u001b[1;33m(\u001b[0m\u001b[1;33m)\u001b[0m\u001b[1;33m\u001b[0m\u001b[1;33m\u001b[0m\u001b[0m\n",
      "\u001b[1;31mNameError\u001b[0m: name 'fun_inner' is not defined"
     ]
    }
   ],
   "source": [
    "\n",
    "def fun_outer():\n",
    "    #x = 'outer x'\n",
    "\n",
    "    def inner():\n",
    "        x = 'inner x'\n",
    "        print(x)\n",
    "\n",
    "    fun_inner()\n",
    "    print(x)\n",
    "fun_outer()"
   ]
  },
  {
   "cell_type": "markdown",
   "id": "45be7c0a",
   "metadata": {},
   "source": [
    "Nonlocal keyword:"
   ]
  },
  {
   "cell_type": "code",
   "execution_count": 65,
   "id": "12167eff",
   "metadata": {},
   "outputs": [
    {
     "name": "stdout",
     "output_type": "stream",
     "text": [
      "inner x\n",
      "inner x\n"
     ]
    }
   ],
   "source": [
    "\n",
    "def fun_outer():\n",
    "    x = ''\n",
    "\n",
    "    def fun_inner():\n",
    "        nonlocal x\n",
    "        x = 'inner x'\n",
    "        print(x)\n",
    "\n",
    "    fun_inner()\n",
    "    print(x)\n",
    "\n",
    "fun_outer()\n"
   ]
  },
  {
   "cell_type": "markdown",
   "id": "974a9fd1",
   "metadata": {},
   "source": [
    "#### built-in"
   ]
  },
  {
   "cell_type": "code",
   "execution_count": 70,
   "id": "e7ba8269",
   "metadata": {},
   "outputs": [
    {
     "name": "stdout",
     "output_type": "stream",
     "text": [
      "FF\n"
     ]
    }
   ],
   "source": [
    "print(\"FF\")"
   ]
  },
  {
   "cell_type": "code",
   "execution_count": 67,
   "id": "12ebc327",
   "metadata": {},
   "outputs": [],
   "source": [
    "def print(str):\n",
    "    pass\n",
    "\n",
    "print('hi')\n"
   ]
  },
  {
   "cell_type": "code",
   "execution_count": 69,
   "id": "4ce20df8",
   "metadata": {},
   "outputs": [],
   "source": [
    "del print"
   ]
  },
  {
   "cell_type": "code",
   "execution_count": 71,
   "id": "07acd43b",
   "metadata": {},
   "outputs": [
    {
     "name": "stdout",
     "output_type": "stream",
     "text": [
      "['ArithmeticError', 'AssertionError', 'AttributeError', 'BaseException', 'BlockingIOError', 'BrokenPipeError', 'BufferError', 'BytesWarning', 'ChildProcessError', 'ConnectionAbortedError', 'ConnectionError', 'ConnectionRefusedError', 'ConnectionResetError', 'DeprecationWarning', 'EOFError', 'Ellipsis', 'EnvironmentError', 'Exception', 'False', 'FileExistsError', 'FileNotFoundError', 'FloatingPointError', 'FutureWarning', 'GeneratorExit', 'IOError', 'ImportError', 'ImportWarning', 'IndentationError', 'IndexError', 'InterruptedError', 'IsADirectoryError', 'KeyError', 'KeyboardInterrupt', 'LookupError', 'MemoryError', 'ModuleNotFoundError', 'NameError', 'None', 'NotADirectoryError', 'NotImplemented', 'NotImplementedError', 'OSError', 'OverflowError', 'PendingDeprecationWarning', 'PermissionError', 'ProcessLookupError', 'RecursionError', 'ReferenceError', 'ResourceWarning', 'RuntimeError', 'RuntimeWarning', 'StopAsyncIteration', 'StopIteration', 'SyntaxError', 'SyntaxWarning', 'SystemError', 'SystemExit', 'TabError', 'TimeoutError', 'True', 'TypeError', 'UnboundLocalError', 'UnicodeDecodeError', 'UnicodeEncodeError', 'UnicodeError', 'UnicodeTranslateError', 'UnicodeWarning', 'UserWarning', 'ValueError', 'Warning', 'WindowsError', 'ZeroDivisionError', '__IPYTHON__', '__build_class__', '__debug__', '__doc__', '__import__', '__loader__', '__name__', '__package__', '__spec__', 'abs', 'all', 'any', 'ascii', 'bin', 'bool', 'breakpoint', 'bytearray', 'bytes', 'callable', 'chr', 'classmethod', 'compile', 'complex', 'copyright', 'credits', 'delattr', 'dict', 'dir', 'display', 'divmod', 'enumerate', 'eval', 'exec', 'execfile', 'filter', 'float', 'format', 'frozenset', 'get_ipython', 'getattr', 'globals', 'hasattr', 'hash', 'help', 'hex', 'id', 'input', 'int', 'isinstance', 'issubclass', 'iter', 'len', 'license', 'list', 'locals', 'map', 'max', 'memoryview', 'min', 'next', 'object', 'oct', 'open', 'ord', 'pow', 'print', 'property', 'range', 'repr', 'reversed', 'round', 'runfile', 'set', 'setattr', 'slice', 'sorted', 'staticmethod', 'str', 'sum', 'super', 'tuple', 'type', 'vars', 'zip']\n"
     ]
    }
   ],
   "source": [
    "import builtins\n",
    "\n",
    "print(dir(builtins)) \n"
   ]
  },
  {
   "cell_type": "markdown",
   "id": "fff7f3e2",
   "metadata": {},
   "source": [
    "What will be the result?"
   ]
  },
  {
   "cell_type": "code",
   "execution_count": 72,
   "id": "325b9d03",
   "metadata": {},
   "outputs": [
    {
     "name": "stdout",
     "output_type": "stream",
     "text": [
      "inner x\n",
      "outer x\n",
      "global x\n"
     ]
    }
   ],
   "source": [
    "\n",
    "x = 'global x'\n",
    "\n",
    "def fun_outer():\n",
    "    x = 'outer x'\n",
    "\n",
    "    def fun_inner():\n",
    "        x = 'inner x'\n",
    "        print(x)\n",
    "\n",
    "    fun_inner()\n",
    "    print(x)\n",
    "\n",
    "fun_outer()\n",
    "print(x)\n"
   ]
  },
  {
   "cell_type": "code",
   "execution_count": 73,
   "id": "3c910fca",
   "metadata": {},
   "outputs": [
    {
     "name": "stdout",
     "output_type": "stream",
     "text": [
      "outer x\n",
      "outer x\n",
      "global x\n"
     ]
    }
   ],
   "source": [
    "x = 'global x'\n",
    "\n",
    "def fun_outer():\n",
    "    x = 'outer x'\n",
    "\n",
    "    def fun_inner():\n",
    "        #x = 'inner x'\n",
    "        print(x)\n",
    "\n",
    "    fun_inner()\n",
    "    print(x)\n",
    "\n",
    "fun_outer()\n",
    "print(x)\n"
   ]
  },
  {
   "cell_type": "code",
   "execution_count": 74,
   "id": "8239635b",
   "metadata": {},
   "outputs": [
    {
     "name": "stdout",
     "output_type": "stream",
     "text": [
      "global x\n",
      "global x\n",
      "global x\n"
     ]
    }
   ],
   "source": [
    "x = 'global x'\n",
    "\n",
    "def fun_outer():\n",
    "    #x = 'outer x'\n",
    "\n",
    "    def fun_inner():\n",
    "        #x = 'inner x'\n",
    "        print(x)\n",
    "\n",
    "    fun_inner()\n",
    "    print(x)\n",
    "\n",
    "fun_outer()\n",
    "print(x)\n"
   ]
  },
  {
   "cell_type": "markdown",
   "id": "2b34e1a9",
   "metadata": {},
   "source": [
    "## Function Attributes"
   ]
  },
  {
   "cell_type": "code",
   "execution_count": 77,
   "id": "d1553b2b",
   "metadata": {},
   "outputs": [],
   "source": [
    "def addFunction(x,y):\n",
    "    \"\"\"\n",
    "    retuns the sum of the arguments\n",
    "    \"\"\"\n",
    "    return x+y"
   ]
  },
  {
   "cell_type": "code",
   "execution_count": 79,
   "id": "90704304",
   "metadata": {},
   "outputs": [
    {
     "name": "stdout",
     "output_type": "stream",
     "text": [
      "addFunction\n"
     ]
    }
   ],
   "source": [
    "print(addFunction.__name__)"
   ]
  },
  {
   "cell_type": "code",
   "execution_count": 80,
   "id": "6ac2e20a",
   "metadata": {},
   "outputs": [
    {
     "name": "stdout",
     "output_type": "stream",
     "text": [
      "\n",
      "    retuns the sum of the arguments\n",
      "    \n"
     ]
    }
   ],
   "source": [
    "print(add.__doc__)"
   ]
  },
  {
   "cell_type": "code",
   "execution_count": null,
   "id": "baed9fcf",
   "metadata": {},
   "outputs": [],
   "source": []
  }
 ],
 "metadata": {
  "kernelspec": {
   "display_name": "Python 3 (ipykernel)",
   "language": "python",
   "name": "python3"
  },
  "language_info": {
   "codemirror_mode": {
    "name": "ipython",
    "version": 3
   },
   "file_extension": ".py",
   "mimetype": "text/x-python",
   "name": "python",
   "nbconvert_exporter": "python",
   "pygments_lexer": "ipython3",
   "version": "3.9.7"
  }
 },
 "nbformat": 4,
 "nbformat_minor": 5
}
